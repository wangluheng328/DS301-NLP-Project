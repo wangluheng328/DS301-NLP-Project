{
  "nbformat": 4,
  "nbformat_minor": 0,
  "metadata": {
    "colab": {
      "name": "DS301 Project.ipynb",
      "provenance": []
    },
    "kernelspec": {
      "name": "python3",
      "display_name": "Python 3"
    },
    "language_info": {
      "name": "python"
    }
  },
  "cells": [
    {
      "cell_type": "code",
      "execution_count": 19,
      "metadata": {
        "colab": {
          "base_uri": "https://localhost:8080/"
        },
        "id": "YcUPEDgcSxhG",
        "outputId": "1b1cd805-5e68-4aa7-d5c0-9dd9cb7b495d"
      },
      "outputs": [
        {
          "output_type": "stream",
          "name": "stdout",
          "text": [
            "Cloning into 'DS301-NLP-Project'...\n",
            "remote: Enumerating objects: 24677, done.\u001b[K\n",
            "remote: Counting objects: 100% (9/9), done.\u001b[K\n",
            "remote: Compressing objects: 100% (7/7), done.\u001b[K\n",
            "remote: Total 24677 (delta 2), reused 7 (delta 0), pack-reused 24668\u001b[K\n",
            "Receiving objects: 100% (24677/24677), 215.94 MiB | 20.17 MiB/s, done.\n",
            "Resolving deltas: 100% (8826/8826), done.\n",
            "Checking out files: 100% (2582/2582), done.\n"
          ]
        }
      ],
      "source": [
        "!git clone https://github.com/wangluheng328/DS301-NLP-Project.git"
      ]
    },
    {
      "cell_type": "code",
      "source": [
        "import glob\n",
        "import os\n",
        "\n",
        "root_path = os.path.expanduser('/content/DS301-NLP-Project/scriptbase_alpha')\n",
        "paths = glob.glob(root_path + '/*')"
      ],
      "metadata": {
        "id": "j2bG_PF9UM-Y"
      },
      "execution_count": 20,
      "outputs": []
    },
    {
      "cell_type": "code",
      "source": [
        "import pandas as pd\n",
        "\n",
        "df = pd.DataFrame([], columns = ['title', 'text', 'imdb'])\n",
        "\n",
        "\n",
        "for path in paths:\n",
        "  f = open(path + '/script.txt', 'r')\n",
        "  try:\n",
        "    text = f.read()\n",
        "    imdb_dir = path + '/processed/imdb_meta.txt'\n",
        "    imdb_f = open(imdb_dir, 'r')\n",
        "    imdb_text = imdb_f.readlines()\n",
        "    imdb_score = float(imdb_text[1].split('\\t')[1].strip())\n",
        "    df = df.append(pd.Series([path.split('/')[-1], text, imdb_score], index = ['title', 'text', 'imdb']), ignore_index = True)\n",
        "  except:\n",
        "    print('Due to decoding issues, ommited: ' + path)"
      ],
      "metadata": {
        "colab": {
          "base_uri": "https://localhost:8080/"
        },
        "id": "oBJ2Kt_jU5pw",
        "outputId": "8d488e42-3ac4-42ec-c672-793977f137a6"
      },
      "execution_count": 21,
      "outputs": [
        {
          "output_type": "stream",
          "name": "stdout",
          "text": [
            "Due to decoding issues, ommited: /content/DS301-NLP-Project/scriptbase_alpha/The Jolson Story\n",
            "Due to decoding issues, ommited: /content/DS301-NLP-Project/scriptbase_alpha/Goldfinger (film)\n",
            "Due to decoding issues, ommited: /content/DS301-NLP-Project/scriptbase_alpha/Stranglehold (1931 film)\n",
            "Due to decoding issues, ommited: /content/DS301-NLP-Project/scriptbase_alpha/Boy Who Never Slept\n",
            "Due to decoding issues, ommited: /content/DS301-NLP-Project/scriptbase_alpha/From Russia with Love (film)\n"
          ]
        }
      ]
    },
    {
      "cell_type": "code",
      "source": [
        "df.head()"
      ],
      "metadata": {
        "colab": {
          "base_uri": "https://localhost:8080/",
          "height": 206
        },
        "id": "uM-5X_3Idpvr",
        "outputId": "1ecb6324-14ab-4ebf-c20a-03dc3883097f"
      },
      "execution_count": null,
      "outputs": [
        {
          "output_type": "execute_result",
          "data": {
            "text/plain": [
              "                         title  \\\n",
              "0          Highlander_ Endgame   \n",
              "1             Assassins (film)   \n",
              "2  G.I. Joe_ The Rise of Cobra   \n",
              "3             Supergirl (film)   \n",
              "4                Bottle Rocket   \n",
              "\n",
              "                                                text  imdb  \n",
              "0          \"HIGHLANDER IV: WORLD WITHOUT END\" -- ...   4.5  \n",
              "1  Assassins (1995) movie script - Screenplays fo...   6.2  \n",
              "2  \\n \\n                          G.I. JOE: THE R...   5.8  \n",
              "3  Revised Screenplay \\n17th January, 1983.\\n\\nAL...   4.3  \n",
              "4  \\n\\n\\n<b><!--\\n</b>if (window!= top)\\ntop.loca...   7.2  "
            ],
            "text/html": [
              "\n",
              "  <div id=\"df-896fcfee-49e7-4c31-ad55-c3092f24c480\">\n",
              "    <div class=\"colab-df-container\">\n",
              "      <div>\n",
              "<style scoped>\n",
              "    .dataframe tbody tr th:only-of-type {\n",
              "        vertical-align: middle;\n",
              "    }\n",
              "\n",
              "    .dataframe tbody tr th {\n",
              "        vertical-align: top;\n",
              "    }\n",
              "\n",
              "    .dataframe thead th {\n",
              "        text-align: right;\n",
              "    }\n",
              "</style>\n",
              "<table border=\"1\" class=\"dataframe\">\n",
              "  <thead>\n",
              "    <tr style=\"text-align: right;\">\n",
              "      <th></th>\n",
              "      <th>title</th>\n",
              "      <th>text</th>\n",
              "      <th>imdb</th>\n",
              "    </tr>\n",
              "  </thead>\n",
              "  <tbody>\n",
              "    <tr>\n",
              "      <th>0</th>\n",
              "      <td>Highlander_ Endgame</td>\n",
              "      <td>\"HIGHLANDER IV: WORLD WITHOUT END\" -- ...</td>\n",
              "      <td>4.5</td>\n",
              "    </tr>\n",
              "    <tr>\n",
              "      <th>1</th>\n",
              "      <td>Assassins (film)</td>\n",
              "      <td>Assassins (1995) movie script - Screenplays fo...</td>\n",
              "      <td>6.2</td>\n",
              "    </tr>\n",
              "    <tr>\n",
              "      <th>2</th>\n",
              "      <td>G.I. Joe_ The Rise of Cobra</td>\n",
              "      <td>\\n \\n                          G.I. JOE: THE R...</td>\n",
              "      <td>5.8</td>\n",
              "    </tr>\n",
              "    <tr>\n",
              "      <th>3</th>\n",
              "      <td>Supergirl (film)</td>\n",
              "      <td>Revised Screenplay \\n17th January, 1983.\\n\\nAL...</td>\n",
              "      <td>4.3</td>\n",
              "    </tr>\n",
              "    <tr>\n",
              "      <th>4</th>\n",
              "      <td>Bottle Rocket</td>\n",
              "      <td>\\n\\n\\n&lt;b&gt;&lt;!--\\n&lt;/b&gt;if (window!= top)\\ntop.loca...</td>\n",
              "      <td>7.2</td>\n",
              "    </tr>\n",
              "  </tbody>\n",
              "</table>\n",
              "</div>\n",
              "      <button class=\"colab-df-convert\" onclick=\"convertToInteractive('df-896fcfee-49e7-4c31-ad55-c3092f24c480')\"\n",
              "              title=\"Convert this dataframe to an interactive table.\"\n",
              "              style=\"display:none;\">\n",
              "        \n",
              "  <svg xmlns=\"http://www.w3.org/2000/svg\" height=\"24px\"viewBox=\"0 0 24 24\"\n",
              "       width=\"24px\">\n",
              "    <path d=\"M0 0h24v24H0V0z\" fill=\"none\"/>\n",
              "    <path d=\"M18.56 5.44l.94 2.06.94-2.06 2.06-.94-2.06-.94-.94-2.06-.94 2.06-2.06.94zm-11 1L8.5 8.5l.94-2.06 2.06-.94-2.06-.94L8.5 2.5l-.94 2.06-2.06.94zm10 10l.94 2.06.94-2.06 2.06-.94-2.06-.94-.94-2.06-.94 2.06-2.06.94z\"/><path d=\"M17.41 7.96l-1.37-1.37c-.4-.4-.92-.59-1.43-.59-.52 0-1.04.2-1.43.59L10.3 9.45l-7.72 7.72c-.78.78-.78 2.05 0 2.83L4 21.41c.39.39.9.59 1.41.59.51 0 1.02-.2 1.41-.59l7.78-7.78 2.81-2.81c.8-.78.8-2.07 0-2.86zM5.41 20L4 18.59l7.72-7.72 1.47 1.35L5.41 20z\"/>\n",
              "  </svg>\n",
              "      </button>\n",
              "      \n",
              "  <style>\n",
              "    .colab-df-container {\n",
              "      display:flex;\n",
              "      flex-wrap:wrap;\n",
              "      gap: 12px;\n",
              "    }\n",
              "\n",
              "    .colab-df-convert {\n",
              "      background-color: #E8F0FE;\n",
              "      border: none;\n",
              "      border-radius: 50%;\n",
              "      cursor: pointer;\n",
              "      display: none;\n",
              "      fill: #1967D2;\n",
              "      height: 32px;\n",
              "      padding: 0 0 0 0;\n",
              "      width: 32px;\n",
              "    }\n",
              "\n",
              "    .colab-df-convert:hover {\n",
              "      background-color: #E2EBFA;\n",
              "      box-shadow: 0px 1px 2px rgba(60, 64, 67, 0.3), 0px 1px 3px 1px rgba(60, 64, 67, 0.15);\n",
              "      fill: #174EA6;\n",
              "    }\n",
              "\n",
              "    [theme=dark] .colab-df-convert {\n",
              "      background-color: #3B4455;\n",
              "      fill: #D2E3FC;\n",
              "    }\n",
              "\n",
              "    [theme=dark] .colab-df-convert:hover {\n",
              "      background-color: #434B5C;\n",
              "      box-shadow: 0px 1px 3px 1px rgba(0, 0, 0, 0.15);\n",
              "      filter: drop-shadow(0px 1px 2px rgba(0, 0, 0, 0.3));\n",
              "      fill: #FFFFFF;\n",
              "    }\n",
              "  </style>\n",
              "\n",
              "      <script>\n",
              "        const buttonEl =\n",
              "          document.querySelector('#df-896fcfee-49e7-4c31-ad55-c3092f24c480 button.colab-df-convert');\n",
              "        buttonEl.style.display =\n",
              "          google.colab.kernel.accessAllowed ? 'block' : 'none';\n",
              "\n",
              "        async function convertToInteractive(key) {\n",
              "          const element = document.querySelector('#df-896fcfee-49e7-4c31-ad55-c3092f24c480');\n",
              "          const dataTable =\n",
              "            await google.colab.kernel.invokeFunction('convertToInteractive',\n",
              "                                                     [key], {});\n",
              "          if (!dataTable) return;\n",
              "\n",
              "          const docLinkHtml = 'Like what you see? Visit the ' +\n",
              "            '<a target=\"_blank\" href=https://colab.research.google.com/notebooks/data_table.ipynb>data table notebook</a>'\n",
              "            + ' to learn more about interactive tables.';\n",
              "          element.innerHTML = '';\n",
              "          dataTable['output_type'] = 'display_data';\n",
              "          await google.colab.output.renderOutput(dataTable, element);\n",
              "          const docLink = document.createElement('div');\n",
              "          docLink.innerHTML = docLinkHtml;\n",
              "          element.appendChild(docLink);\n",
              "        }\n",
              "      </script>\n",
              "    </div>\n",
              "  </div>\n",
              "  "
            ]
          },
          "metadata": {},
          "execution_count": 90
        }
      ]
    },
    {
      "cell_type": "code",
      "source": [
        "import nltk\n",
        "from nltk.text import Text\n",
        "from nltk import word_tokenize\n",
        "from nltk.corpus import stopwords\n",
        "from nltk.stem import WordNetLemmatizer\n",
        "from tqdm import tqdm\n",
        "\n",
        "nltk.download('wordnet')\n",
        "nltk.download('stopwords')\n",
        "stopwords = stopwords.words('english')\n",
        "stopwords.remove('not')\n",
        "stopwords.append('\\n')\n",
        "stopwords.append('<b>')\n",
        "nltk.download('punkt')\n",
        "lemmatizer = WordNetLemmatizer()"
      ],
      "metadata": {
        "colab": {
          "base_uri": "https://localhost:8080/"
        },
        "id": "aCUBAL9czd51",
        "outputId": "cca0e12b-74db-4166-9dab-964c071aa252"
      },
      "execution_count": 31,
      "outputs": [
        {
          "output_type": "stream",
          "name": "stdout",
          "text": [
            "[nltk_data] Downloading package wordnet to /root/nltk_data...\n",
            "[nltk_data]   Package wordnet is already up-to-date!\n",
            "[nltk_data] Downloading package stopwords to /root/nltk_data...\n",
            "[nltk_data]   Package stopwords is already up-to-date!\n",
            "[nltk_data] Downloading package punkt to /root/nltk_data...\n",
            "[nltk_data]   Package punkt is already up-to-date!\n"
          ]
        }
      ]
    },
    {
      "cell_type": "code",
      "source": [
        "def process_text(text):\n",
        "    clean_text = text\n",
        "    clean_text = clean_text.lower()\n",
        "    tokens = word_tokenize(clean_text)\n",
        "\n",
        "    clean_tokens = []\n",
        "\n",
        "    for token in tokens:\n",
        "      token = lemmatizer.lemmatize(token)\n",
        "      if token not in stopwords and token.isalpha():\n",
        "        clean_tokens.append(lemmatizer.lemmatize(token))\n",
        "    return clean_tokens"
      ],
      "metadata": {
        "id": "WdE74Xead-kp"
      },
      "execution_count": 32,
      "outputs": []
    },
    {
      "cell_type": "code",
      "source": [
        "processed = []\n",
        "for i in tqdm(range(len(df['text']))):\n",
        "  processed.append(process_text(df['text'][i]))\n",
        "df['text_preprocessed'] = processed"
      ],
      "metadata": {
        "colab": {
          "base_uri": "https://localhost:8080/"
        },
        "id": "cRw3LzBByA60",
        "outputId": "6bd146ca-24f1-4d16-980a-11c4464243b2"
      },
      "execution_count": 33,
      "outputs": [
        {
          "output_type": "stream",
          "name": "stderr",
          "text": [
            "100%|██████████| 1271/1271 [12:09<00:00,  1.74it/s]\n"
          ]
        }
      ]
    },
    {
      "cell_type": "code",
      "source": [
        "from collections import Counter\n",
        "\n",
        "count_list = []\n",
        "for l in df.text_preprocessed:\n",
        "  count_list += l\n",
        "top_10k_count = Counter(count_list).most_common(10000)\n",
        "top_10k = [i[0] for i in top_10k_count]"
      ],
      "metadata": {
        "id": "ZlxYPppC0c58"
      },
      "execution_count": 40,
      "outputs": []
    },
    {
      "cell_type": "code",
      "source": [
        "top_10k[:10]"
      ],
      "metadata": {
        "colab": {
          "base_uri": "https://localhost:8080/"
        },
        "id": "T1DhewGH0duW",
        "outputId": "eecf744b-79a1-4bd6-96a9-8be06fdb2efa"
      },
      "execution_count": 42,
      "outputs": [
        {
          "output_type": "execute_result",
          "data": {
            "text/plain": [
              "['look', 'back', 'int', 'not', 'get', 'see', 'one', 'wa', 'know', 'like']"
            ]
          },
          "metadata": {},
          "execution_count": 42
        }
      ]
    },
    {
      "cell_type": "code",
      "source": [
        "dicts = []\n",
        "for processed_list in df.text_preprocessed:\n",
        "  dicts.append(dict(Counter(processed_list)))\n",
        "df['counts'] = dicts\n",
        "df.head()"
      ],
      "metadata": {
        "colab": {
          "base_uri": "https://localhost:8080/",
          "height": 206
        },
        "id": "jcDzJGrg7_vN",
        "outputId": "56c49601-9ab6-4b06-e622-344f86fc1ae8"
      },
      "execution_count": 46,
      "outputs": [
        {
          "output_type": "execute_result",
          "data": {
            "text/plain": [
              "                         title  \\\n",
              "0          Highlander_ Endgame   \n",
              "1             Assassins (film)   \n",
              "2  G.I. Joe_ The Rise of Cobra   \n",
              "3             Supergirl (film)   \n",
              "4                Bottle Rocket   \n",
              "\n",
              "                                                text  imdb  \\\n",
              "0          \"HIGHLANDER IV: WORLD WITHOUT END\" -- ...   4.5   \n",
              "1  Assassins (1995) movie script - Screenplays fo...   6.2   \n",
              "2  \\n \\n                          G.I. JOE: THE R...   5.8   \n",
              "3  Revised Screenplay \\n17th January, 1983.\\n\\nAL...   4.3   \n",
              "4  \\n\\n\\n<b><!--\\n</b>if (window!= top)\\ntop.loca...   7.2   \n",
              "\n",
              "                                   text_preprocessed  \\\n",
              "0  [highlander, iv, world, without, end, draft, b...   \n",
              "1  [assassin, movie, script, screenplay, var, gaj...   \n",
              "2  [joe, rise, cobra, written, stuart, beattie, j...   \n",
              "3  [revised, screenplay, january, alexander, salk...   \n",
              "4  [b, window, top, b, bottle, rocket, wes, ander...   \n",
              "\n",
              "                                              counts  \n",
              "0  {'highlander': 5, 'iv': 2, 'world': 10, 'witho...  \n",
              "1  {'assassin': 3, 'movie': 6, 'script': 5, 'scre...  \n",
              "2  {'joe': 15, 'rise': 6, 'cobra': 7, 'written': ...  \n",
              "3  {'revised': 1, 'screenplay': 1, 'january': 1, ...  \n",
              "4  {'b': 2, 'window': 25, 'top': 4, 'bottle': 8, ...  "
            ],
            "text/html": [
              "\n",
              "  <div id=\"df-044b887d-7b06-47b5-864f-0f6801f3613b\">\n",
              "    <div class=\"colab-df-container\">\n",
              "      <div>\n",
              "<style scoped>\n",
              "    .dataframe tbody tr th:only-of-type {\n",
              "        vertical-align: middle;\n",
              "    }\n",
              "\n",
              "    .dataframe tbody tr th {\n",
              "        vertical-align: top;\n",
              "    }\n",
              "\n",
              "    .dataframe thead th {\n",
              "        text-align: right;\n",
              "    }\n",
              "</style>\n",
              "<table border=\"1\" class=\"dataframe\">\n",
              "  <thead>\n",
              "    <tr style=\"text-align: right;\">\n",
              "      <th></th>\n",
              "      <th>title</th>\n",
              "      <th>text</th>\n",
              "      <th>imdb</th>\n",
              "      <th>text_preprocessed</th>\n",
              "      <th>counts</th>\n",
              "    </tr>\n",
              "  </thead>\n",
              "  <tbody>\n",
              "    <tr>\n",
              "      <th>0</th>\n",
              "      <td>Highlander_ Endgame</td>\n",
              "      <td>\"HIGHLANDER IV: WORLD WITHOUT END\" -- ...</td>\n",
              "      <td>4.5</td>\n",
              "      <td>[highlander, iv, world, without, end, draft, b...</td>\n",
              "      <td>{'highlander': 5, 'iv': 2, 'world': 10, 'witho...</td>\n",
              "    </tr>\n",
              "    <tr>\n",
              "      <th>1</th>\n",
              "      <td>Assassins (film)</td>\n",
              "      <td>Assassins (1995) movie script - Screenplays fo...</td>\n",
              "      <td>6.2</td>\n",
              "      <td>[assassin, movie, script, screenplay, var, gaj...</td>\n",
              "      <td>{'assassin': 3, 'movie': 6, 'script': 5, 'scre...</td>\n",
              "    </tr>\n",
              "    <tr>\n",
              "      <th>2</th>\n",
              "      <td>G.I. Joe_ The Rise of Cobra</td>\n",
              "      <td>\\n \\n                          G.I. JOE: THE R...</td>\n",
              "      <td>5.8</td>\n",
              "      <td>[joe, rise, cobra, written, stuart, beattie, j...</td>\n",
              "      <td>{'joe': 15, 'rise': 6, 'cobra': 7, 'written': ...</td>\n",
              "    </tr>\n",
              "    <tr>\n",
              "      <th>3</th>\n",
              "      <td>Supergirl (film)</td>\n",
              "      <td>Revised Screenplay \\n17th January, 1983.\\n\\nAL...</td>\n",
              "      <td>4.3</td>\n",
              "      <td>[revised, screenplay, january, alexander, salk...</td>\n",
              "      <td>{'revised': 1, 'screenplay': 1, 'january': 1, ...</td>\n",
              "    </tr>\n",
              "    <tr>\n",
              "      <th>4</th>\n",
              "      <td>Bottle Rocket</td>\n",
              "      <td>\\n\\n\\n&lt;b&gt;&lt;!--\\n&lt;/b&gt;if (window!= top)\\ntop.loca...</td>\n",
              "      <td>7.2</td>\n",
              "      <td>[b, window, top, b, bottle, rocket, wes, ander...</td>\n",
              "      <td>{'b': 2, 'window': 25, 'top': 4, 'bottle': 8, ...</td>\n",
              "    </tr>\n",
              "  </tbody>\n",
              "</table>\n",
              "</div>\n",
              "      <button class=\"colab-df-convert\" onclick=\"convertToInteractive('df-044b887d-7b06-47b5-864f-0f6801f3613b')\"\n",
              "              title=\"Convert this dataframe to an interactive table.\"\n",
              "              style=\"display:none;\">\n",
              "        \n",
              "  <svg xmlns=\"http://www.w3.org/2000/svg\" height=\"24px\"viewBox=\"0 0 24 24\"\n",
              "       width=\"24px\">\n",
              "    <path d=\"M0 0h24v24H0V0z\" fill=\"none\"/>\n",
              "    <path d=\"M18.56 5.44l.94 2.06.94-2.06 2.06-.94-2.06-.94-.94-2.06-.94 2.06-2.06.94zm-11 1L8.5 8.5l.94-2.06 2.06-.94-2.06-.94L8.5 2.5l-.94 2.06-2.06.94zm10 10l.94 2.06.94-2.06 2.06-.94-2.06-.94-.94-2.06-.94 2.06-2.06.94z\"/><path d=\"M17.41 7.96l-1.37-1.37c-.4-.4-.92-.59-1.43-.59-.52 0-1.04.2-1.43.59L10.3 9.45l-7.72 7.72c-.78.78-.78 2.05 0 2.83L4 21.41c.39.39.9.59 1.41.59.51 0 1.02-.2 1.41-.59l7.78-7.78 2.81-2.81c.8-.78.8-2.07 0-2.86zM5.41 20L4 18.59l7.72-7.72 1.47 1.35L5.41 20z\"/>\n",
              "  </svg>\n",
              "      </button>\n",
              "      \n",
              "  <style>\n",
              "    .colab-df-container {\n",
              "      display:flex;\n",
              "      flex-wrap:wrap;\n",
              "      gap: 12px;\n",
              "    }\n",
              "\n",
              "    .colab-df-convert {\n",
              "      background-color: #E8F0FE;\n",
              "      border: none;\n",
              "      border-radius: 50%;\n",
              "      cursor: pointer;\n",
              "      display: none;\n",
              "      fill: #1967D2;\n",
              "      height: 32px;\n",
              "      padding: 0 0 0 0;\n",
              "      width: 32px;\n",
              "    }\n",
              "\n",
              "    .colab-df-convert:hover {\n",
              "      background-color: #E2EBFA;\n",
              "      box-shadow: 0px 1px 2px rgba(60, 64, 67, 0.3), 0px 1px 3px 1px rgba(60, 64, 67, 0.15);\n",
              "      fill: #174EA6;\n",
              "    }\n",
              "\n",
              "    [theme=dark] .colab-df-convert {\n",
              "      background-color: #3B4455;\n",
              "      fill: #D2E3FC;\n",
              "    }\n",
              "\n",
              "    [theme=dark] .colab-df-convert:hover {\n",
              "      background-color: #434B5C;\n",
              "      box-shadow: 0px 1px 3px 1px rgba(0, 0, 0, 0.15);\n",
              "      filter: drop-shadow(0px 1px 2px rgba(0, 0, 0, 0.3));\n",
              "      fill: #FFFFFF;\n",
              "    }\n",
              "  </style>\n",
              "\n",
              "      <script>\n",
              "        const buttonEl =\n",
              "          document.querySelector('#df-044b887d-7b06-47b5-864f-0f6801f3613b button.colab-df-convert');\n",
              "        buttonEl.style.display =\n",
              "          google.colab.kernel.accessAllowed ? 'block' : 'none';\n",
              "\n",
              "        async function convertToInteractive(key) {\n",
              "          const element = document.querySelector('#df-044b887d-7b06-47b5-864f-0f6801f3613b');\n",
              "          const dataTable =\n",
              "            await google.colab.kernel.invokeFunction('convertToInteractive',\n",
              "                                                     [key], {});\n",
              "          if (!dataTable) return;\n",
              "\n",
              "          const docLinkHtml = 'Like what you see? Visit the ' +\n",
              "            '<a target=\"_blank\" href=https://colab.research.google.com/notebooks/data_table.ipynb>data table notebook</a>'\n",
              "            + ' to learn more about interactive tables.';\n",
              "          element.innerHTML = '';\n",
              "          dataTable['output_type'] = 'display_data';\n",
              "          await google.colab.output.renderOutput(dataTable, element);\n",
              "          const docLink = document.createElement('div');\n",
              "          docLink.innerHTML = docLinkHtml;\n",
              "          element.appendChild(docLink);\n",
              "        }\n",
              "      </script>\n",
              "    </div>\n",
              "  </div>\n",
              "  "
            ]
          },
          "metadata": {},
          "execution_count": 46
        }
      ]
    },
    {
      "cell_type": "code",
      "source": [
        "appeared_in = {}\n",
        "for word in top_10k:\n",
        "  count = 0\n",
        "  for dic in df['counts']:\n",
        "    if word in dic:\n",
        "      count += 1\n",
        "  appeared_in[word] = count"
      ],
      "metadata": {
        "id": "hrLCXr-u8sjP"
      },
      "execution_count": 49,
      "outputs": []
    },
    {
      "cell_type": "code",
      "source": [
        "import math\n",
        "\n",
        "tfidf = []\n",
        "for dic in df.counts:\n",
        "  # 10k-dimesional tfidf list for the current document\n",
        "  tfidf_list = []\n",
        "  for word in top_10k:\n",
        "    tf = dic.get(word, 0)\n",
        "    idf = math.log(len(df) / appeared_in[word])\n",
        "    tfidf_list.append(tf * idf)\n",
        "  tfidf.append(tfidf_list)\n",
        "\n",
        "df['tfidf'] = tfidf"
      ],
      "metadata": {
        "id": "V5IvFm9r9x8c"
      },
      "execution_count": 59,
      "outputs": []
    },
    {
      "cell_type": "code",
      "source": [
        "df.head()"
      ],
      "metadata": {
        "colab": {
          "base_uri": "https://localhost:8080/",
          "height": 206
        },
        "id": "LafEMCr1_dLM",
        "outputId": "15d419cf-c9d0-457b-b7da-82edf96df339"
      },
      "execution_count": 63,
      "outputs": [
        {
          "output_type": "execute_result",
          "data": {
            "text/plain": [
              "                         title  \\\n",
              "0          Highlander_ Endgame   \n",
              "1             Assassins (film)   \n",
              "2  G.I. Joe_ The Rise of Cobra   \n",
              "3             Supergirl (film)   \n",
              "4                Bottle Rocket   \n",
              "\n",
              "                                                text  imdb  \\\n",
              "0          \"HIGHLANDER IV: WORLD WITHOUT END\" -- ...   4.5   \n",
              "1  Assassins (1995) movie script - Screenplays fo...   6.2   \n",
              "2  \\n \\n                          G.I. JOE: THE R...   5.8   \n",
              "3  Revised Screenplay \\n17th January, 1983.\\n\\nAL...   4.3   \n",
              "4  \\n\\n\\n<b><!--\\n</b>if (window!= top)\\ntop.loca...   7.2   \n",
              "\n",
              "                                   text_preprocessed  \\\n",
              "0  [highlander, iv, world, without, end, draft, b...   \n",
              "1  [assassin, movie, script, screenplay, var, gaj...   \n",
              "2  [joe, rise, cobra, written, stuart, beattie, j...   \n",
              "3  [revised, screenplay, january, alexander, salk...   \n",
              "4  [b, window, top, b, bottle, rocket, wes, ander...   \n",
              "\n",
              "                                              counts  \\\n",
              "0  {'highlander': 5, 'iv': 2, 'world': 10, 'witho...   \n",
              "1  {'assassin': 3, 'movie': 6, 'script': 5, 'scre...   \n",
              "2  {'joe': 15, 'rise': 6, 'cobra': 7, 'written': ...   \n",
              "3  {'revised': 1, 'screenplay': 1, 'january': 1, ...   \n",
              "4  {'b': 2, 'window': 25, 'top': 4, 'bottle': 8, ...   \n",
              "\n",
              "                                               tfidf  \n",
              "0  [0.028335302525412092, 0.0, 4.6795863553116135...  \n",
              "1  [0.10232192578621033, 0.0, 20.615475024751163,...  \n",
              "2  [0.08658009104987029, 0.0, 14.291709679735469,...  \n",
              "3  [0.07870917368170026, 0.0, 10.750401086526681,...  \n",
              "4  [0.12829595310117142, 0.0, 5.311962889813183, ...  "
            ],
            "text/html": [
              "\n",
              "  <div id=\"df-c317fe99-480c-4b0b-b2e5-66701b2c7923\">\n",
              "    <div class=\"colab-df-container\">\n",
              "      <div>\n",
              "<style scoped>\n",
              "    .dataframe tbody tr th:only-of-type {\n",
              "        vertical-align: middle;\n",
              "    }\n",
              "\n",
              "    .dataframe tbody tr th {\n",
              "        vertical-align: top;\n",
              "    }\n",
              "\n",
              "    .dataframe thead th {\n",
              "        text-align: right;\n",
              "    }\n",
              "</style>\n",
              "<table border=\"1\" class=\"dataframe\">\n",
              "  <thead>\n",
              "    <tr style=\"text-align: right;\">\n",
              "      <th></th>\n",
              "      <th>title</th>\n",
              "      <th>text</th>\n",
              "      <th>imdb</th>\n",
              "      <th>text_preprocessed</th>\n",
              "      <th>counts</th>\n",
              "      <th>tfidf</th>\n",
              "    </tr>\n",
              "  </thead>\n",
              "  <tbody>\n",
              "    <tr>\n",
              "      <th>0</th>\n",
              "      <td>Highlander_ Endgame</td>\n",
              "      <td>\"HIGHLANDER IV: WORLD WITHOUT END\" -- ...</td>\n",
              "      <td>4.5</td>\n",
              "      <td>[highlander, iv, world, without, end, draft, b...</td>\n",
              "      <td>{'highlander': 5, 'iv': 2, 'world': 10, 'witho...</td>\n",
              "      <td>[0.028335302525412092, 0.0, 4.6795863553116135...</td>\n",
              "    </tr>\n",
              "    <tr>\n",
              "      <th>1</th>\n",
              "      <td>Assassins (film)</td>\n",
              "      <td>Assassins (1995) movie script - Screenplays fo...</td>\n",
              "      <td>6.2</td>\n",
              "      <td>[assassin, movie, script, screenplay, var, gaj...</td>\n",
              "      <td>{'assassin': 3, 'movie': 6, 'script': 5, 'scre...</td>\n",
              "      <td>[0.10232192578621033, 0.0, 20.615475024751163,...</td>\n",
              "    </tr>\n",
              "    <tr>\n",
              "      <th>2</th>\n",
              "      <td>G.I. Joe_ The Rise of Cobra</td>\n",
              "      <td>\\n \\n                          G.I. JOE: THE R...</td>\n",
              "      <td>5.8</td>\n",
              "      <td>[joe, rise, cobra, written, stuart, beattie, j...</td>\n",
              "      <td>{'joe': 15, 'rise': 6, 'cobra': 7, 'written': ...</td>\n",
              "      <td>[0.08658009104987029, 0.0, 14.291709679735469,...</td>\n",
              "    </tr>\n",
              "    <tr>\n",
              "      <th>3</th>\n",
              "      <td>Supergirl (film)</td>\n",
              "      <td>Revised Screenplay \\n17th January, 1983.\\n\\nAL...</td>\n",
              "      <td>4.3</td>\n",
              "      <td>[revised, screenplay, january, alexander, salk...</td>\n",
              "      <td>{'revised': 1, 'screenplay': 1, 'january': 1, ...</td>\n",
              "      <td>[0.07870917368170026, 0.0, 10.750401086526681,...</td>\n",
              "    </tr>\n",
              "    <tr>\n",
              "      <th>4</th>\n",
              "      <td>Bottle Rocket</td>\n",
              "      <td>\\n\\n\\n&lt;b&gt;&lt;!--\\n&lt;/b&gt;if (window!= top)\\ntop.loca...</td>\n",
              "      <td>7.2</td>\n",
              "      <td>[b, window, top, b, bottle, rocket, wes, ander...</td>\n",
              "      <td>{'b': 2, 'window': 25, 'top': 4, 'bottle': 8, ...</td>\n",
              "      <td>[0.12829595310117142, 0.0, 5.311962889813183, ...</td>\n",
              "    </tr>\n",
              "  </tbody>\n",
              "</table>\n",
              "</div>\n",
              "      <button class=\"colab-df-convert\" onclick=\"convertToInteractive('df-c317fe99-480c-4b0b-b2e5-66701b2c7923')\"\n",
              "              title=\"Convert this dataframe to an interactive table.\"\n",
              "              style=\"display:none;\">\n",
              "        \n",
              "  <svg xmlns=\"http://www.w3.org/2000/svg\" height=\"24px\"viewBox=\"0 0 24 24\"\n",
              "       width=\"24px\">\n",
              "    <path d=\"M0 0h24v24H0V0z\" fill=\"none\"/>\n",
              "    <path d=\"M18.56 5.44l.94 2.06.94-2.06 2.06-.94-2.06-.94-.94-2.06-.94 2.06-2.06.94zm-11 1L8.5 8.5l.94-2.06 2.06-.94-2.06-.94L8.5 2.5l-.94 2.06-2.06.94zm10 10l.94 2.06.94-2.06 2.06-.94-2.06-.94-.94-2.06-.94 2.06-2.06.94z\"/><path d=\"M17.41 7.96l-1.37-1.37c-.4-.4-.92-.59-1.43-.59-.52 0-1.04.2-1.43.59L10.3 9.45l-7.72 7.72c-.78.78-.78 2.05 0 2.83L4 21.41c.39.39.9.59 1.41.59.51 0 1.02-.2 1.41-.59l7.78-7.78 2.81-2.81c.8-.78.8-2.07 0-2.86zM5.41 20L4 18.59l7.72-7.72 1.47 1.35L5.41 20z\"/>\n",
              "  </svg>\n",
              "      </button>\n",
              "      \n",
              "  <style>\n",
              "    .colab-df-container {\n",
              "      display:flex;\n",
              "      flex-wrap:wrap;\n",
              "      gap: 12px;\n",
              "    }\n",
              "\n",
              "    .colab-df-convert {\n",
              "      background-color: #E8F0FE;\n",
              "      border: none;\n",
              "      border-radius: 50%;\n",
              "      cursor: pointer;\n",
              "      display: none;\n",
              "      fill: #1967D2;\n",
              "      height: 32px;\n",
              "      padding: 0 0 0 0;\n",
              "      width: 32px;\n",
              "    }\n",
              "\n",
              "    .colab-df-convert:hover {\n",
              "      background-color: #E2EBFA;\n",
              "      box-shadow: 0px 1px 2px rgba(60, 64, 67, 0.3), 0px 1px 3px 1px rgba(60, 64, 67, 0.15);\n",
              "      fill: #174EA6;\n",
              "    }\n",
              "\n",
              "    [theme=dark] .colab-df-convert {\n",
              "      background-color: #3B4455;\n",
              "      fill: #D2E3FC;\n",
              "    }\n",
              "\n",
              "    [theme=dark] .colab-df-convert:hover {\n",
              "      background-color: #434B5C;\n",
              "      box-shadow: 0px 1px 3px 1px rgba(0, 0, 0, 0.15);\n",
              "      filter: drop-shadow(0px 1px 2px rgba(0, 0, 0, 0.3));\n",
              "      fill: #FFFFFF;\n",
              "    }\n",
              "  </style>\n",
              "\n",
              "      <script>\n",
              "        const buttonEl =\n",
              "          document.querySelector('#df-c317fe99-480c-4b0b-b2e5-66701b2c7923 button.colab-df-convert');\n",
              "        buttonEl.style.display =\n",
              "          google.colab.kernel.accessAllowed ? 'block' : 'none';\n",
              "\n",
              "        async function convertToInteractive(key) {\n",
              "          const element = document.querySelector('#df-c317fe99-480c-4b0b-b2e5-66701b2c7923');\n",
              "          const dataTable =\n",
              "            await google.colab.kernel.invokeFunction('convertToInteractive',\n",
              "                                                     [key], {});\n",
              "          if (!dataTable) return;\n",
              "\n",
              "          const docLinkHtml = 'Like what you see? Visit the ' +\n",
              "            '<a target=\"_blank\" href=https://colab.research.google.com/notebooks/data_table.ipynb>data table notebook</a>'\n",
              "            + ' to learn more about interactive tables.';\n",
              "          element.innerHTML = '';\n",
              "          dataTable['output_type'] = 'display_data';\n",
              "          await google.colab.output.renderOutput(dataTable, element);\n",
              "          const docLink = document.createElement('div');\n",
              "          docLink.innerHTML = docLinkHtml;\n",
              "          element.appendChild(docLink);\n",
              "        }\n",
              "      </script>\n",
              "    </div>\n",
              "  </div>\n",
              "  "
            ]
          },
          "metadata": {},
          "execution_count": 63
        }
      ]
    },
    {
      "cell_type": "code",
      "source": [
        "imdb_level = []\n",
        "for i in df.imdb:\n",
        "  if i >= 6:\n",
        "    imdb_level.append(3)\n",
        "  elif i >= 3:\n",
        "    imdb_level.append(2)\n",
        "  else:\n",
        "    imdb_level.append(1)"
      ],
      "metadata": {
        "id": "q_ZSC_BXDcxG"
      },
      "execution_count": 86,
      "outputs": []
    },
    {
      "cell_type": "code",
      "source": [
        "import numpy as np\n",
        "from sklearn.model_selection import train_test_split\n",
        "from sklearn.linear_model import LogisticRegression\n",
        "\n",
        "\n",
        "X_train, X_test, y_train, y_test = train_test_split(tfidf, imdb_level, test_size = 0.3)"
      ],
      "metadata": {
        "id": "50EScPQU_1oT"
      },
      "execution_count": 87,
      "outputs": []
    },
    {
      "cell_type": "code",
      "source": [
        "lr = LogisticRegression().fit(X_train, y_train)\n",
        "preds = lr.predict(X_test)"
      ],
      "metadata": {
        "colab": {
          "base_uri": "https://localhost:8080/"
        },
        "id": "FPYyYFvvAjE4",
        "outputId": "f5011a85-2c07-4899-b4e8-7dc64e3a5f2e"
      },
      "execution_count": 88,
      "outputs": [
        {
          "output_type": "stream",
          "name": "stderr",
          "text": [
            "/usr/local/lib/python3.7/dist-packages/sklearn/linear_model/_logistic.py:818: ConvergenceWarning: lbfgs failed to converge (status=1):\n",
            "STOP: TOTAL NO. of ITERATIONS REACHED LIMIT.\n",
            "\n",
            "Increase the number of iterations (max_iter) or scale the data as shown in:\n",
            "    https://scikit-learn.org/stable/modules/preprocessing.html\n",
            "Please also refer to the documentation for alternative solver options:\n",
            "    https://scikit-learn.org/stable/modules/linear_model.html#logistic-regression\n",
            "  extra_warning_msg=_LOGISTIC_SOLVER_CONVERGENCE_MSG,\n"
          ]
        }
      ]
    },
    {
      "cell_type": "code",
      "source": [
        "sum(preds == y_test)/len(preds)"
      ],
      "metadata": {
        "colab": {
          "base_uri": "https://localhost:8080/"
        },
        "id": "LS0nq2kdBZMe",
        "outputId": "6481dbf1-5d37-4570-d43c-bbb5d376bfb7"
      },
      "execution_count": 89,
      "outputs": [
        {
          "output_type": "execute_result",
          "data": {
            "text/plain": [
              "0.7643979057591623"
            ]
          },
          "metadata": {},
          "execution_count": 89
        }
      ]
    },
    {
      "cell_type": "code",
      "source": [
        ""
      ],
      "metadata": {
        "id": "hvGKhlLgCfso"
      },
      "execution_count": null,
      "outputs": []
    }
  ]
}