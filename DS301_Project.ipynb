{
  "cells": [
    {
      "cell_type": "code",
      "execution_count": 1,
      "metadata": {
        "colab": {
          "base_uri": "https://localhost:8080/"
        },
        "id": "YcUPEDgcSxhG",
        "outputId": "51d63456-eb90-4b51-99ec-8a1c3488a79e"
      },
      "outputs": [
        {
          "output_type": "stream",
          "name": "stdout",
          "text": [
            "Cloning into 'DS301-NLP-Project'...\n",
            "remote: Enumerating objects: 24680, done.\u001b[K\n",
            "remote: Counting objects: 100% (12/12), done.\u001b[K\n",
            "remote: Compressing objects: 100% (7/7), done.\u001b[K\n",
            "remote: Total 24680 (delta 3), reused 12 (delta 3), pack-reused 24668\u001b[K\n",
            "Receiving objects: 100% (24680/24680), 215.95 MiB | 11.14 MiB/s, done.\n",
            "Resolving deltas: 100% (8827/8827), done.\n",
            "Checking out files: 100% (2581/2581), done.\n"
          ]
        }
      ],
      "source": [
        "!git clone https://github.com/wangluheng328/DS301-NLP-Project.git"
      ]
    },
    {
      "cell_type": "code",
      "execution_count": 2,
      "metadata": {
        "id": "j2bG_PF9UM-Y"
      },
      "outputs": [],
      "source": [
        "import glob\n",
        "import os\n",
        "\n",
        "root_path = os.path.expanduser('/content/DS301-NLP-Project/scriptbase_alpha')\n",
        "paths = glob.glob(root_path + '/*')"
      ]
    },
    {
      "cell_type": "code",
      "execution_count": 3,
      "metadata": {
        "colab": {
          "base_uri": "https://localhost:8080/"
        },
        "id": "oBJ2Kt_jU5pw",
        "outputId": "5fe0bb08-8b5e-4d1f-8269-5e01ab1b6aff"
      },
      "outputs": [
        {
          "output_type": "stream",
          "name": "stdout",
          "text": [
            "Due to decoding issues, ommited: /content/DS301-NLP-Project/scriptbase_alpha/Stranglehold (1931 film)\n",
            "Due to decoding issues, ommited: /content/DS301-NLP-Project/scriptbase_alpha/From Russia with Love (film)\n",
            "Due to decoding issues, ommited: /content/DS301-NLP-Project/scriptbase_alpha/Goldfinger (film)\n",
            "Due to decoding issues, ommited: /content/DS301-NLP-Project/scriptbase_alpha/Boy Who Never Slept\n",
            "Due to decoding issues, ommited: /content/DS301-NLP-Project/scriptbase_alpha/The Jolson Story\n"
          ]
        }
      ],
      "source": [
        "import pandas as pd\n",
        "\n",
        "df = pd.DataFrame([], columns = ['title', 'text', 'imdb'])\n",
        "\n",
        "\n",
        "for path in paths:\n",
        "  f = open(path + '/script.txt', 'r')\n",
        "  try:\n",
        "    text = f.read()\n",
        "    imdb_dir = path + '/processed/imdb_meta.txt'\n",
        "    imdb_f = open(imdb_dir, 'r')\n",
        "    imdb_text = imdb_f.readlines()\n",
        "    imdb_score = float(imdb_text[1].split('\\t')[1].strip())\n",
        "    df = df.append(pd.Series([path.split('/')[-1], text, imdb_score], index = ['title', 'text', 'imdb']), ignore_index = True)\n",
        "  except:\n",
        "    print('Due to decoding issues, ommited: ' + path)"
      ]
    },
    {
      "cell_type": "code",
      "execution_count": 4,
      "metadata": {
        "colab": {
          "base_uri": "https://localhost:8080/",
          "height": 206
        },
        "id": "uM-5X_3Idpvr",
        "outputId": "a0e6c6aa-b2aa-4757-aa54-e7fe50dbc78b"
      },
      "outputs": [
        {
          "output_type": "execute_result",
          "data": {
            "text/plain": [
              "                             title  \\\n",
              "0                      Hudson Hawk   \n",
              "1              Willard (2003 film)   \n",
              "2                   Extract (film)   \n",
              "3  Beavis and Butt-head Do America   \n",
              "4                      Solarbabies   \n",
              "\n",
              "                                                text  imdb  \n",
              "0  \\n\\n   \"Hudson Hawk\", by Steven E. de Souza, r...   5.7  \n",
              "1         WILLARD\\n\\n\\n\\n\\n\\nBODY { background-co...   6.2  \n",
              "2  \\n\\n \\n                                    EXT...   6.2  \n",
              "3  Beavis and Butt-Head Do America - by Mike Judg...   6.7  \n",
              "4  Solarbabies\\n\\nTranscribed by: Sonja Kemp\\n\\n\\...   4.7  "
            ],
            "text/html": [
              "\n",
              "  <div id=\"df-f18b704d-b759-4fe7-94ba-7456db1b554b\">\n",
              "    <div class=\"colab-df-container\">\n",
              "      <div>\n",
              "<style scoped>\n",
              "    .dataframe tbody tr th:only-of-type {\n",
              "        vertical-align: middle;\n",
              "    }\n",
              "\n",
              "    .dataframe tbody tr th {\n",
              "        vertical-align: top;\n",
              "    }\n",
              "\n",
              "    .dataframe thead th {\n",
              "        text-align: right;\n",
              "    }\n",
              "</style>\n",
              "<table border=\"1\" class=\"dataframe\">\n",
              "  <thead>\n",
              "    <tr style=\"text-align: right;\">\n",
              "      <th></th>\n",
              "      <th>title</th>\n",
              "      <th>text</th>\n",
              "      <th>imdb</th>\n",
              "    </tr>\n",
              "  </thead>\n",
              "  <tbody>\n",
              "    <tr>\n",
              "      <th>0</th>\n",
              "      <td>Hudson Hawk</td>\n",
              "      <td>\\n\\n   \"Hudson Hawk\", by Steven E. de Souza, r...</td>\n",
              "      <td>5.7</td>\n",
              "    </tr>\n",
              "    <tr>\n",
              "      <th>1</th>\n",
              "      <td>Willard (2003 film)</td>\n",
              "      <td>WILLARD\\n\\n\\n\\n\\n\\nBODY { background-co...</td>\n",
              "      <td>6.2</td>\n",
              "    </tr>\n",
              "    <tr>\n",
              "      <th>2</th>\n",
              "      <td>Extract (film)</td>\n",
              "      <td>\\n\\n \\n                                    EXT...</td>\n",
              "      <td>6.2</td>\n",
              "    </tr>\n",
              "    <tr>\n",
              "      <th>3</th>\n",
              "      <td>Beavis and Butt-head Do America</td>\n",
              "      <td>Beavis and Butt-Head Do America - by Mike Judg...</td>\n",
              "      <td>6.7</td>\n",
              "    </tr>\n",
              "    <tr>\n",
              "      <th>4</th>\n",
              "      <td>Solarbabies</td>\n",
              "      <td>Solarbabies\\n\\nTranscribed by: Sonja Kemp\\n\\n\\...</td>\n",
              "      <td>4.7</td>\n",
              "    </tr>\n",
              "  </tbody>\n",
              "</table>\n",
              "</div>\n",
              "      <button class=\"colab-df-convert\" onclick=\"convertToInteractive('df-f18b704d-b759-4fe7-94ba-7456db1b554b')\"\n",
              "              title=\"Convert this dataframe to an interactive table.\"\n",
              "              style=\"display:none;\">\n",
              "        \n",
              "  <svg xmlns=\"http://www.w3.org/2000/svg\" height=\"24px\"viewBox=\"0 0 24 24\"\n",
              "       width=\"24px\">\n",
              "    <path d=\"M0 0h24v24H0V0z\" fill=\"none\"/>\n",
              "    <path d=\"M18.56 5.44l.94 2.06.94-2.06 2.06-.94-2.06-.94-.94-2.06-.94 2.06-2.06.94zm-11 1L8.5 8.5l.94-2.06 2.06-.94-2.06-.94L8.5 2.5l-.94 2.06-2.06.94zm10 10l.94 2.06.94-2.06 2.06-.94-2.06-.94-.94-2.06-.94 2.06-2.06.94z\"/><path d=\"M17.41 7.96l-1.37-1.37c-.4-.4-.92-.59-1.43-.59-.52 0-1.04.2-1.43.59L10.3 9.45l-7.72 7.72c-.78.78-.78 2.05 0 2.83L4 21.41c.39.39.9.59 1.41.59.51 0 1.02-.2 1.41-.59l7.78-7.78 2.81-2.81c.8-.78.8-2.07 0-2.86zM5.41 20L4 18.59l7.72-7.72 1.47 1.35L5.41 20z\"/>\n",
              "  </svg>\n",
              "      </button>\n",
              "      \n",
              "  <style>\n",
              "    .colab-df-container {\n",
              "      display:flex;\n",
              "      flex-wrap:wrap;\n",
              "      gap: 12px;\n",
              "    }\n",
              "\n",
              "    .colab-df-convert {\n",
              "      background-color: #E8F0FE;\n",
              "      border: none;\n",
              "      border-radius: 50%;\n",
              "      cursor: pointer;\n",
              "      display: none;\n",
              "      fill: #1967D2;\n",
              "      height: 32px;\n",
              "      padding: 0 0 0 0;\n",
              "      width: 32px;\n",
              "    }\n",
              "\n",
              "    .colab-df-convert:hover {\n",
              "      background-color: #E2EBFA;\n",
              "      box-shadow: 0px 1px 2px rgba(60, 64, 67, 0.3), 0px 1px 3px 1px rgba(60, 64, 67, 0.15);\n",
              "      fill: #174EA6;\n",
              "    }\n",
              "\n",
              "    [theme=dark] .colab-df-convert {\n",
              "      background-color: #3B4455;\n",
              "      fill: #D2E3FC;\n",
              "    }\n",
              "\n",
              "    [theme=dark] .colab-df-convert:hover {\n",
              "      background-color: #434B5C;\n",
              "      box-shadow: 0px 1px 3px 1px rgba(0, 0, 0, 0.15);\n",
              "      filter: drop-shadow(0px 1px 2px rgba(0, 0, 0, 0.3));\n",
              "      fill: #FFFFFF;\n",
              "    }\n",
              "  </style>\n",
              "\n",
              "      <script>\n",
              "        const buttonEl =\n",
              "          document.querySelector('#df-f18b704d-b759-4fe7-94ba-7456db1b554b button.colab-df-convert');\n",
              "        buttonEl.style.display =\n",
              "          google.colab.kernel.accessAllowed ? 'block' : 'none';\n",
              "\n",
              "        async function convertToInteractive(key) {\n",
              "          const element = document.querySelector('#df-f18b704d-b759-4fe7-94ba-7456db1b554b');\n",
              "          const dataTable =\n",
              "            await google.colab.kernel.invokeFunction('convertToInteractive',\n",
              "                                                     [key], {});\n",
              "          if (!dataTable) return;\n",
              "\n",
              "          const docLinkHtml = 'Like what you see? Visit the ' +\n",
              "            '<a target=\"_blank\" href=https://colab.research.google.com/notebooks/data_table.ipynb>data table notebook</a>'\n",
              "            + ' to learn more about interactive tables.';\n",
              "          element.innerHTML = '';\n",
              "          dataTable['output_type'] = 'display_data';\n",
              "          await google.colab.output.renderOutput(dataTable, element);\n",
              "          const docLink = document.createElement('div');\n",
              "          docLink.innerHTML = docLinkHtml;\n",
              "          element.appendChild(docLink);\n",
              "        }\n",
              "      </script>\n",
              "    </div>\n",
              "  </div>\n",
              "  "
            ]
          },
          "metadata": {},
          "execution_count": 4
        }
      ],
      "source": [
        "df.head()"
      ]
    },
    {
      "cell_type": "code",
      "execution_count": 5,
      "metadata": {
        "colab": {
          "base_uri": "https://localhost:8080/"
        },
        "id": "aCUBAL9czd51",
        "outputId": "6c5512ed-43dd-4d10-c2cf-abf77d04b4d4"
      },
      "outputs": [
        {
          "output_type": "stream",
          "name": "stdout",
          "text": [
            "[nltk_data] Downloading package wordnet to /root/nltk_data...\n",
            "[nltk_data]   Unzipping corpora/wordnet.zip.\n",
            "[nltk_data] Downloading package stopwords to /root/nltk_data...\n",
            "[nltk_data]   Unzipping corpora/stopwords.zip.\n",
            "[nltk_data] Downloading package punkt to /root/nltk_data...\n",
            "[nltk_data]   Unzipping tokenizers/punkt.zip.\n"
          ]
        }
      ],
      "source": [
        "import nltk\n",
        "from nltk.text import Text\n",
        "from nltk import word_tokenize\n",
        "from nltk.corpus import stopwords\n",
        "from nltk.stem import WordNetLemmatizer\n",
        "from tqdm import tqdm\n",
        "\n",
        "nltk.download('wordnet')\n",
        "nltk.download('stopwords')\n",
        "stopwords = stopwords.words('english')\n",
        "stopwords.remove('not')\n",
        "stopwords.append('\\n')\n",
        "stopwords.append('<b>')\n",
        "nltk.download('punkt')\n",
        "lemmatizer = WordNetLemmatizer()"
      ]
    },
    {
      "cell_type": "code",
      "execution_count": 6,
      "metadata": {
        "id": "WdE74Xead-kp"
      },
      "outputs": [],
      "source": [
        "def process_text(text):\n",
        "    clean_text = text\n",
        "    clean_text = clean_text.lower()\n",
        "    tokens = word_tokenize(clean_text)\n",
        "\n",
        "    clean_tokens = []\n",
        "\n",
        "    for token in tokens:\n",
        "      token = lemmatizer.lemmatize(token)\n",
        "      if token not in stopwords and token.isalpha():\n",
        "        clean_tokens.append(lemmatizer.lemmatize(token))\n",
        "    return clean_tokens"
      ]
    },
    {
      "cell_type": "code",
      "execution_count": 7,
      "metadata": {
        "colab": {
          "base_uri": "https://localhost:8080/"
        },
        "id": "cRw3LzBByA60",
        "outputId": "fa57e2a1-881d-4590-95cf-b1ad276da8cf"
      },
      "outputs": [
        {
          "output_type": "stream",
          "name": "stderr",
          "text": [
            "100%|██████████| 1271/1271 [11:33<00:00,  1.83it/s]\n"
          ]
        }
      ],
      "source": [
        "processed = []\n",
        "for i in tqdm(range(len(df['text']))):\n",
        "  processed.append(process_text(df['text'][i]))\n",
        "df['text_preprocessed'] = processed"
      ]
    },
    {
      "cell_type": "code",
      "execution_count": 8,
      "metadata": {
        "id": "ZlxYPppC0c58"
      },
      "outputs": [],
      "source": [
        "from collections import Counter\n",
        "\n",
        "count_list = []\n",
        "for l in df.text_preprocessed:\n",
        "  count_list += l\n",
        "top_10k_count = Counter(count_list).most_common(10000)\n",
        "top_10k = [i[0] for i in top_10k_count]"
      ]
    },
    {
      "cell_type": "code",
      "execution_count": 9,
      "metadata": {
        "colab": {
          "base_uri": "https://localhost:8080/"
        },
        "id": "T1DhewGH0duW",
        "outputId": "898ae9d9-515d-4ff0-f3bb-96193609ad1c"
      },
      "outputs": [
        {
          "output_type": "execute_result",
          "data": {
            "text/plain": [
              "['look', 'back', 'int', 'not', 'get', 'see', 'one', 'wa', 'know', 'like']"
            ]
          },
          "metadata": {},
          "execution_count": 9
        }
      ],
      "source": [
        "top_10k[:10]"
      ]
    },
    {
      "cell_type": "code",
      "execution_count": 10,
      "metadata": {
        "colab": {
          "base_uri": "https://localhost:8080/",
          "height": 206
        },
        "id": "jcDzJGrg7_vN",
        "outputId": "10aaa0fa-a412-46b9-8b74-c6029ec578a8"
      },
      "outputs": [
        {
          "output_type": "execute_result",
          "data": {
            "text/plain": [
              "                             title  \\\n",
              "0                      Hudson Hawk   \n",
              "1              Willard (2003 film)   \n",
              "2                   Extract (film)   \n",
              "3  Beavis and Butt-head Do America   \n",
              "4                      Solarbabies   \n",
              "\n",
              "                                                text  imdb  \\\n",
              "0  \\n\\n   \"Hudson Hawk\", by Steven E. de Souza, r...   5.7   \n",
              "1         WILLARD\\n\\n\\n\\n\\n\\nBODY { background-co...   6.2   \n",
              "2  \\n\\n \\n                                    EXT...   6.2   \n",
              "3  Beavis and Butt-Head Do America - by Mike Judg...   6.7   \n",
              "4  Solarbabies\\n\\nTranscribed by: Sonja Kemp\\n\\n\\...   4.7   \n",
              "\n",
              "                                   text_preprocessed  \\\n",
              "0  [hudson, hawk, steven, de, souza, revised, dan...   \n",
              "1  [willard, body, ffffff, courier, new, helvetic...   \n",
              "2  [extract, written, mike, judge, march, begin, ...   \n",
              "3  [beavis, america, mike, judge, joe, stillman, ...   \n",
              "4  [solarbabies, transcribed, sonja, kemp, warden...   \n",
              "\n",
              "                                              counts  \n",
              "0  {'hudson': 28, 'hawk': 663, 'steven': 2, 'de':...  \n",
              "1  {'willard': 934, 'body': 21, 'ffffff': 1, 'cou...  \n",
              "2  {'extract': 33, 'written': 1, 'mike': 1, 'judg...  \n",
              "3  {'beavis': 332, 'america': 8, 'mike': 2, 'judg...  \n",
              "4  {'solarbabies': 24, 'transcribed': 1, 'sonja':...  "
            ],
            "text/html": [
              "\n",
              "  <div id=\"df-530de2f4-a192-4ed1-84e4-ccff2fd11262\">\n",
              "    <div class=\"colab-df-container\">\n",
              "      <div>\n",
              "<style scoped>\n",
              "    .dataframe tbody tr th:only-of-type {\n",
              "        vertical-align: middle;\n",
              "    }\n",
              "\n",
              "    .dataframe tbody tr th {\n",
              "        vertical-align: top;\n",
              "    }\n",
              "\n",
              "    .dataframe thead th {\n",
              "        text-align: right;\n",
              "    }\n",
              "</style>\n",
              "<table border=\"1\" class=\"dataframe\">\n",
              "  <thead>\n",
              "    <tr style=\"text-align: right;\">\n",
              "      <th></th>\n",
              "      <th>title</th>\n",
              "      <th>text</th>\n",
              "      <th>imdb</th>\n",
              "      <th>text_preprocessed</th>\n",
              "      <th>counts</th>\n",
              "    </tr>\n",
              "  </thead>\n",
              "  <tbody>\n",
              "    <tr>\n",
              "      <th>0</th>\n",
              "      <td>Hudson Hawk</td>\n",
              "      <td>\\n\\n   \"Hudson Hawk\", by Steven E. de Souza, r...</td>\n",
              "      <td>5.7</td>\n",
              "      <td>[hudson, hawk, steven, de, souza, revised, dan...</td>\n",
              "      <td>{'hudson': 28, 'hawk': 663, 'steven': 2, 'de':...</td>\n",
              "    </tr>\n",
              "    <tr>\n",
              "      <th>1</th>\n",
              "      <td>Willard (2003 film)</td>\n",
              "      <td>WILLARD\\n\\n\\n\\n\\n\\nBODY { background-co...</td>\n",
              "      <td>6.2</td>\n",
              "      <td>[willard, body, ffffff, courier, new, helvetic...</td>\n",
              "      <td>{'willard': 934, 'body': 21, 'ffffff': 1, 'cou...</td>\n",
              "    </tr>\n",
              "    <tr>\n",
              "      <th>2</th>\n",
              "      <td>Extract (film)</td>\n",
              "      <td>\\n\\n \\n                                    EXT...</td>\n",
              "      <td>6.2</td>\n",
              "      <td>[extract, written, mike, judge, march, begin, ...</td>\n",
              "      <td>{'extract': 33, 'written': 1, 'mike': 1, 'judg...</td>\n",
              "    </tr>\n",
              "    <tr>\n",
              "      <th>3</th>\n",
              "      <td>Beavis and Butt-head Do America</td>\n",
              "      <td>Beavis and Butt-Head Do America - by Mike Judg...</td>\n",
              "      <td>6.7</td>\n",
              "      <td>[beavis, america, mike, judge, joe, stillman, ...</td>\n",
              "      <td>{'beavis': 332, 'america': 8, 'mike': 2, 'judg...</td>\n",
              "    </tr>\n",
              "    <tr>\n",
              "      <th>4</th>\n",
              "      <td>Solarbabies</td>\n",
              "      <td>Solarbabies\\n\\nTranscribed by: Sonja Kemp\\n\\n\\...</td>\n",
              "      <td>4.7</td>\n",
              "      <td>[solarbabies, transcribed, sonja, kemp, warden...</td>\n",
              "      <td>{'solarbabies': 24, 'transcribed': 1, 'sonja':...</td>\n",
              "    </tr>\n",
              "  </tbody>\n",
              "</table>\n",
              "</div>\n",
              "      <button class=\"colab-df-convert\" onclick=\"convertToInteractive('df-530de2f4-a192-4ed1-84e4-ccff2fd11262')\"\n",
              "              title=\"Convert this dataframe to an interactive table.\"\n",
              "              style=\"display:none;\">\n",
              "        \n",
              "  <svg xmlns=\"http://www.w3.org/2000/svg\" height=\"24px\"viewBox=\"0 0 24 24\"\n",
              "       width=\"24px\">\n",
              "    <path d=\"M0 0h24v24H0V0z\" fill=\"none\"/>\n",
              "    <path d=\"M18.56 5.44l.94 2.06.94-2.06 2.06-.94-2.06-.94-.94-2.06-.94 2.06-2.06.94zm-11 1L8.5 8.5l.94-2.06 2.06-.94-2.06-.94L8.5 2.5l-.94 2.06-2.06.94zm10 10l.94 2.06.94-2.06 2.06-.94-2.06-.94-.94-2.06-.94 2.06-2.06.94z\"/><path d=\"M17.41 7.96l-1.37-1.37c-.4-.4-.92-.59-1.43-.59-.52 0-1.04.2-1.43.59L10.3 9.45l-7.72 7.72c-.78.78-.78 2.05 0 2.83L4 21.41c.39.39.9.59 1.41.59.51 0 1.02-.2 1.41-.59l7.78-7.78 2.81-2.81c.8-.78.8-2.07 0-2.86zM5.41 20L4 18.59l7.72-7.72 1.47 1.35L5.41 20z\"/>\n",
              "  </svg>\n",
              "      </button>\n",
              "      \n",
              "  <style>\n",
              "    .colab-df-container {\n",
              "      display:flex;\n",
              "      flex-wrap:wrap;\n",
              "      gap: 12px;\n",
              "    }\n",
              "\n",
              "    .colab-df-convert {\n",
              "      background-color: #E8F0FE;\n",
              "      border: none;\n",
              "      border-radius: 50%;\n",
              "      cursor: pointer;\n",
              "      display: none;\n",
              "      fill: #1967D2;\n",
              "      height: 32px;\n",
              "      padding: 0 0 0 0;\n",
              "      width: 32px;\n",
              "    }\n",
              "\n",
              "    .colab-df-convert:hover {\n",
              "      background-color: #E2EBFA;\n",
              "      box-shadow: 0px 1px 2px rgba(60, 64, 67, 0.3), 0px 1px 3px 1px rgba(60, 64, 67, 0.15);\n",
              "      fill: #174EA6;\n",
              "    }\n",
              "\n",
              "    [theme=dark] .colab-df-convert {\n",
              "      background-color: #3B4455;\n",
              "      fill: #D2E3FC;\n",
              "    }\n",
              "\n",
              "    [theme=dark] .colab-df-convert:hover {\n",
              "      background-color: #434B5C;\n",
              "      box-shadow: 0px 1px 3px 1px rgba(0, 0, 0, 0.15);\n",
              "      filter: drop-shadow(0px 1px 2px rgba(0, 0, 0, 0.3));\n",
              "      fill: #FFFFFF;\n",
              "    }\n",
              "  </style>\n",
              "\n",
              "      <script>\n",
              "        const buttonEl =\n",
              "          document.querySelector('#df-530de2f4-a192-4ed1-84e4-ccff2fd11262 button.colab-df-convert');\n",
              "        buttonEl.style.display =\n",
              "          google.colab.kernel.accessAllowed ? 'block' : 'none';\n",
              "\n",
              "        async function convertToInteractive(key) {\n",
              "          const element = document.querySelector('#df-530de2f4-a192-4ed1-84e4-ccff2fd11262');\n",
              "          const dataTable =\n",
              "            await google.colab.kernel.invokeFunction('convertToInteractive',\n",
              "                                                     [key], {});\n",
              "          if (!dataTable) return;\n",
              "\n",
              "          const docLinkHtml = 'Like what you see? Visit the ' +\n",
              "            '<a target=\"_blank\" href=https://colab.research.google.com/notebooks/data_table.ipynb>data table notebook</a>'\n",
              "            + ' to learn more about interactive tables.';\n",
              "          element.innerHTML = '';\n",
              "          dataTable['output_type'] = 'display_data';\n",
              "          await google.colab.output.renderOutput(dataTable, element);\n",
              "          const docLink = document.createElement('div');\n",
              "          docLink.innerHTML = docLinkHtml;\n",
              "          element.appendChild(docLink);\n",
              "        }\n",
              "      </script>\n",
              "    </div>\n",
              "  </div>\n",
              "  "
            ]
          },
          "metadata": {},
          "execution_count": 10
        }
      ],
      "source": [
        "dicts = []\n",
        "for processed_list in df.text_preprocessed:\n",
        "  dicts.append(dict(Counter(processed_list)))\n",
        "df['counts'] = dicts\n",
        "df.head()"
      ]
    },
    {
      "cell_type": "code",
      "execution_count": 11,
      "metadata": {
        "id": "hrLCXr-u8sjP"
      },
      "outputs": [],
      "source": [
        "appeared_in = {}\n",
        "for word in top_10k:\n",
        "  count = 0\n",
        "  for dic in df['counts']:\n",
        "    if word in dic:\n",
        "      count += 1\n",
        "  appeared_in[word] = count"
      ]
    },
    {
      "cell_type": "code",
      "execution_count": 12,
      "metadata": {
        "id": "V5IvFm9r9x8c"
      },
      "outputs": [],
      "source": [
        "import math\n",
        "\n",
        "tfidf = []\n",
        "for dic in df.counts:\n",
        "  # 10k-dimesional tfidf list for the current document\n",
        "  tfidf_list = []\n",
        "  for word in top_10k:\n",
        "    tf = dic.get(word, 0)\n",
        "    idf = math.log(len(df) / appeared_in[word])\n",
        "    tfidf_list.append(tf * idf)\n",
        "  tfidf.append(tfidf_list)\n",
        "\n",
        "df['tfidf'] = tfidf"
      ]
    },
    {
      "cell_type": "code",
      "execution_count": 13,
      "metadata": {
        "colab": {
          "base_uri": "https://localhost:8080/",
          "height": 206
        },
        "id": "LafEMCr1_dLM",
        "outputId": "1ece469f-837c-40a6-dfc9-ab44995fc928"
      },
      "outputs": [
        {
          "output_type": "execute_result",
          "data": {
            "text/plain": [
              "                             title  \\\n",
              "0                      Hudson Hawk   \n",
              "1              Willard (2003 film)   \n",
              "2                   Extract (film)   \n",
              "3  Beavis and Butt-head Do America   \n",
              "4                      Solarbabies   \n",
              "\n",
              "                                                text  imdb  \\\n",
              "0  \\n\\n   \"Hudson Hawk\", by Steven E. de Souza, r...   5.7   \n",
              "1         WILLARD\\n\\n\\n\\n\\n\\nBODY { background-co...   6.2   \n",
              "2  \\n\\n \\n                                    EXT...   6.2   \n",
              "3  Beavis and Butt-Head Do America - by Mike Judg...   6.7   \n",
              "4  Solarbabies\\n\\nTranscribed by: Sonja Kemp\\n\\n\\...   4.7   \n",
              "\n",
              "                                   text_preprocessed  \\\n",
              "0  [hudson, hawk, steven, de, souza, revised, dan...   \n",
              "1  [willard, body, ffffff, courier, new, helvetic...   \n",
              "2  [extract, written, mike, judge, march, begin, ...   \n",
              "3  [beavis, america, mike, judge, joe, stillman, ...   \n",
              "4  [solarbabies, transcribed, sonja, kemp, warden...   \n",
              "\n",
              "                                              counts  \\\n",
              "0  {'hudson': 28, 'hawk': 663, 'steven': 2, 'de':...   \n",
              "1  {'willard': 934, 'body': 21, 'ffffff': 1, 'cou...   \n",
              "2  {'extract': 33, 'written': 1, 'mike': 1, 'judg...   \n",
              "3  {'beavis': 332, 'america': 8, 'mike': 2, 'judg...   \n",
              "4  {'solarbabies': 24, 'transcribed': 1, 'sonja':...   \n",
              "\n",
              "                                               tfidf  \n",
              "0  [0.041715862051301136, 0.0, 7.335567800218206,...  \n",
              "1  [0.07083825631353023, 0.0, 20.362524410950535,...  \n",
              "2  [0.09523810015485731, 0.0, 8.094419641620089, ...  \n",
              "3  [0.05903188026127519, 0.0, 12.141629462430133,...  \n",
              "4  [0.03699331163039912, 0.0, 0.0, 0.0, 0.0354191...  "
            ],
            "text/html": [
              "\n",
              "  <div id=\"df-251bb39a-ed92-40c5-ab68-5b2964b3a18a\">\n",
              "    <div class=\"colab-df-container\">\n",
              "      <div>\n",
              "<style scoped>\n",
              "    .dataframe tbody tr th:only-of-type {\n",
              "        vertical-align: middle;\n",
              "    }\n",
              "\n",
              "    .dataframe tbody tr th {\n",
              "        vertical-align: top;\n",
              "    }\n",
              "\n",
              "    .dataframe thead th {\n",
              "        text-align: right;\n",
              "    }\n",
              "</style>\n",
              "<table border=\"1\" class=\"dataframe\">\n",
              "  <thead>\n",
              "    <tr style=\"text-align: right;\">\n",
              "      <th></th>\n",
              "      <th>title</th>\n",
              "      <th>text</th>\n",
              "      <th>imdb</th>\n",
              "      <th>text_preprocessed</th>\n",
              "      <th>counts</th>\n",
              "      <th>tfidf</th>\n",
              "    </tr>\n",
              "  </thead>\n",
              "  <tbody>\n",
              "    <tr>\n",
              "      <th>0</th>\n",
              "      <td>Hudson Hawk</td>\n",
              "      <td>\\n\\n   \"Hudson Hawk\", by Steven E. de Souza, r...</td>\n",
              "      <td>5.7</td>\n",
              "      <td>[hudson, hawk, steven, de, souza, revised, dan...</td>\n",
              "      <td>{'hudson': 28, 'hawk': 663, 'steven': 2, 'de':...</td>\n",
              "      <td>[0.041715862051301136, 0.0, 7.335567800218206,...</td>\n",
              "    </tr>\n",
              "    <tr>\n",
              "      <th>1</th>\n",
              "      <td>Willard (2003 film)</td>\n",
              "      <td>WILLARD\\n\\n\\n\\n\\n\\nBODY { background-co...</td>\n",
              "      <td>6.2</td>\n",
              "      <td>[willard, body, ffffff, courier, new, helvetic...</td>\n",
              "      <td>{'willard': 934, 'body': 21, 'ffffff': 1, 'cou...</td>\n",
              "      <td>[0.07083825631353023, 0.0, 20.362524410950535,...</td>\n",
              "    </tr>\n",
              "    <tr>\n",
              "      <th>2</th>\n",
              "      <td>Extract (film)</td>\n",
              "      <td>\\n\\n \\n                                    EXT...</td>\n",
              "      <td>6.2</td>\n",
              "      <td>[extract, written, mike, judge, march, begin, ...</td>\n",
              "      <td>{'extract': 33, 'written': 1, 'mike': 1, 'judg...</td>\n",
              "      <td>[0.09523810015485731, 0.0, 8.094419641620089, ...</td>\n",
              "    </tr>\n",
              "    <tr>\n",
              "      <th>3</th>\n",
              "      <td>Beavis and Butt-head Do America</td>\n",
              "      <td>Beavis and Butt-Head Do America - by Mike Judg...</td>\n",
              "      <td>6.7</td>\n",
              "      <td>[beavis, america, mike, judge, joe, stillman, ...</td>\n",
              "      <td>{'beavis': 332, 'america': 8, 'mike': 2, 'judg...</td>\n",
              "      <td>[0.05903188026127519, 0.0, 12.141629462430133,...</td>\n",
              "    </tr>\n",
              "    <tr>\n",
              "      <th>4</th>\n",
              "      <td>Solarbabies</td>\n",
              "      <td>Solarbabies\\n\\nTranscribed by: Sonja Kemp\\n\\n\\...</td>\n",
              "      <td>4.7</td>\n",
              "      <td>[solarbabies, transcribed, sonja, kemp, warden...</td>\n",
              "      <td>{'solarbabies': 24, 'transcribed': 1, 'sonja':...</td>\n",
              "      <td>[0.03699331163039912, 0.0, 0.0, 0.0, 0.0354191...</td>\n",
              "    </tr>\n",
              "  </tbody>\n",
              "</table>\n",
              "</div>\n",
              "      <button class=\"colab-df-convert\" onclick=\"convertToInteractive('df-251bb39a-ed92-40c5-ab68-5b2964b3a18a')\"\n",
              "              title=\"Convert this dataframe to an interactive table.\"\n",
              "              style=\"display:none;\">\n",
              "        \n",
              "  <svg xmlns=\"http://www.w3.org/2000/svg\" height=\"24px\"viewBox=\"0 0 24 24\"\n",
              "       width=\"24px\">\n",
              "    <path d=\"M0 0h24v24H0V0z\" fill=\"none\"/>\n",
              "    <path d=\"M18.56 5.44l.94 2.06.94-2.06 2.06-.94-2.06-.94-.94-2.06-.94 2.06-2.06.94zm-11 1L8.5 8.5l.94-2.06 2.06-.94-2.06-.94L8.5 2.5l-.94 2.06-2.06.94zm10 10l.94 2.06.94-2.06 2.06-.94-2.06-.94-.94-2.06-.94 2.06-2.06.94z\"/><path d=\"M17.41 7.96l-1.37-1.37c-.4-.4-.92-.59-1.43-.59-.52 0-1.04.2-1.43.59L10.3 9.45l-7.72 7.72c-.78.78-.78 2.05 0 2.83L4 21.41c.39.39.9.59 1.41.59.51 0 1.02-.2 1.41-.59l7.78-7.78 2.81-2.81c.8-.78.8-2.07 0-2.86zM5.41 20L4 18.59l7.72-7.72 1.47 1.35L5.41 20z\"/>\n",
              "  </svg>\n",
              "      </button>\n",
              "      \n",
              "  <style>\n",
              "    .colab-df-container {\n",
              "      display:flex;\n",
              "      flex-wrap:wrap;\n",
              "      gap: 12px;\n",
              "    }\n",
              "\n",
              "    .colab-df-convert {\n",
              "      background-color: #E8F0FE;\n",
              "      border: none;\n",
              "      border-radius: 50%;\n",
              "      cursor: pointer;\n",
              "      display: none;\n",
              "      fill: #1967D2;\n",
              "      height: 32px;\n",
              "      padding: 0 0 0 0;\n",
              "      width: 32px;\n",
              "    }\n",
              "\n",
              "    .colab-df-convert:hover {\n",
              "      background-color: #E2EBFA;\n",
              "      box-shadow: 0px 1px 2px rgba(60, 64, 67, 0.3), 0px 1px 3px 1px rgba(60, 64, 67, 0.15);\n",
              "      fill: #174EA6;\n",
              "    }\n",
              "\n",
              "    [theme=dark] .colab-df-convert {\n",
              "      background-color: #3B4455;\n",
              "      fill: #D2E3FC;\n",
              "    }\n",
              "\n",
              "    [theme=dark] .colab-df-convert:hover {\n",
              "      background-color: #434B5C;\n",
              "      box-shadow: 0px 1px 3px 1px rgba(0, 0, 0, 0.15);\n",
              "      filter: drop-shadow(0px 1px 2px rgba(0, 0, 0, 0.3));\n",
              "      fill: #FFFFFF;\n",
              "    }\n",
              "  </style>\n",
              "\n",
              "      <script>\n",
              "        const buttonEl =\n",
              "          document.querySelector('#df-251bb39a-ed92-40c5-ab68-5b2964b3a18a button.colab-df-convert');\n",
              "        buttonEl.style.display =\n",
              "          google.colab.kernel.accessAllowed ? 'block' : 'none';\n",
              "\n",
              "        async function convertToInteractive(key) {\n",
              "          const element = document.querySelector('#df-251bb39a-ed92-40c5-ab68-5b2964b3a18a');\n",
              "          const dataTable =\n",
              "            await google.colab.kernel.invokeFunction('convertToInteractive',\n",
              "                                                     [key], {});\n",
              "          if (!dataTable) return;\n",
              "\n",
              "          const docLinkHtml = 'Like what you see? Visit the ' +\n",
              "            '<a target=\"_blank\" href=https://colab.research.google.com/notebooks/data_table.ipynb>data table notebook</a>'\n",
              "            + ' to learn more about interactive tables.';\n",
              "          element.innerHTML = '';\n",
              "          dataTable['output_type'] = 'display_data';\n",
              "          await google.colab.output.renderOutput(dataTable, element);\n",
              "          const docLink = document.createElement('div');\n",
              "          docLink.innerHTML = docLinkHtml;\n",
              "          element.appendChild(docLink);\n",
              "        }\n",
              "      </script>\n",
              "    </div>\n",
              "  </div>\n",
              "  "
            ]
          },
          "metadata": {},
          "execution_count": 13
        }
      ],
      "source": [
        "df.head()"
      ]
    },
    {
      "cell_type": "code",
      "source": [
        "imdb_level = []\n",
        "for i in df.imdb:\n",
        "  if i >= 6:\n",
        "    imdb_level.append(3)\n",
        "  elif i >= 3:\n",
        "    imdb_level.append(2)\n",
        "  else:\n",
        "    imdb_level.append(1)"
      ],
      "metadata": {
        "id": "8JIIJQAdFXQ3"
      },
      "execution_count": 20,
      "outputs": []
    },
    {
      "cell_type": "code",
      "execution_count": 45,
      "metadata": {
        "id": "50EScPQU_1oT"
      },
      "outputs": [],
      "source": [
        "import numpy as np\n",
        "from sklearn.model_selection import train_test_split\n",
        "from sklearn.linear_model import LogisticRegression\n",
        "\n",
        "\n",
        "X_train, X_test, y_train, y_test = train_test_split(tfidf, imdb_level, test_size = 0.3)"
      ]
    },
    {
      "cell_type": "code",
      "execution_count": 46,
      "metadata": {
        "colab": {
          "base_uri": "https://localhost:8080/"
        },
        "id": "FPYyYFvvAjE4",
        "outputId": "4069dacb-1cf5-4c90-d885-a5ec88c69a24"
      },
      "outputs": [
        {
          "output_type": "stream",
          "name": "stderr",
          "text": [
            "/usr/local/lib/python3.7/dist-packages/sklearn/linear_model/_logistic.py:818: ConvergenceWarning: lbfgs failed to converge (status=1):\n",
            "STOP: TOTAL NO. of ITERATIONS REACHED LIMIT.\n",
            "\n",
            "Increase the number of iterations (max_iter) or scale the data as shown in:\n",
            "    https://scikit-learn.org/stable/modules/preprocessing.html\n",
            "Please also refer to the documentation for alternative solver options:\n",
            "    https://scikit-learn.org/stable/modules/linear_model.html#logistic-regression\n",
            "  extra_warning_msg=_LOGISTIC_SOLVER_CONVERGENCE_MSG,\n"
          ]
        }
      ],
      "source": [
        "lr = LogisticRegression().fit(X_train, y_train)\n",
        "preds = lr.predict(np.array(X_test))"
      ]
    },
    {
      "cell_type": "code",
      "execution_count": 47,
      "metadata": {
        "id": "LS0nq2kdBZMe",
        "colab": {
          "base_uri": "https://localhost:8080/"
        },
        "outputId": "97879667-1844-4c4c-d8f2-c0e8ab51ea32"
      },
      "outputs": [
        {
          "output_type": "execute_result",
          "data": {
            "text/plain": [
              "0.7722513089005235"
            ]
          },
          "metadata": {},
          "execution_count": 47
        }
      ],
      "source": [
        "sum(preds == y_test)/len(preds)"
      ]
    },
    {
      "cell_type": "markdown",
      "source": [
        "### Random Forest"
      ],
      "metadata": {
        "id": "Iwo0JufiJs-U"
      }
    },
    {
      "cell_type": "code",
      "source": [
        ""
      ],
      "metadata": {
        "id": "0GSjn5NzJwAk"
      },
      "execution_count": null,
      "outputs": []
    },
    {
      "cell_type": "markdown",
      "source": [
        "### PCA"
      ],
      "metadata": {
        "id": "Pq8_Zs1OGvwz"
      }
    },
    {
      "cell_type": "code",
      "source": [
        "from sklearn.preprocessing import StandardScaler\n",
        "from sklearn.decomposition import PCA\n",
        "import seaborn as sns"
      ],
      "metadata": {
        "id": "AMCWXtngFriq"
      },
      "execution_count": 34,
      "outputs": []
    },
    {
      "cell_type": "code",
      "source": [
        "scalar = StandardScaler()\n",
        "scaled_data = pd.DataFrame(scalar.fit_transform(tfidf))"
      ],
      "metadata": {
        "id": "SckxNZw5GOZF"
      },
      "execution_count": 33,
      "outputs": []
    },
    {
      "cell_type": "code",
      "source": [
        "accuracy = []\n",
        "for n_comp in range(3, 10):\n",
        "  pca = PCA(n_components = 3)\n",
        "  pca.fit(scaled_data)\n",
        "  data_pca = pca.transform(scaled_data)\n",
        "  X_train, X_test, y_train, y_test = train_test_split(tfidf, imdb_level, test_size = 0.3)\n",
        "  lr = LogisticRegression().fit(X_train, y_train)\n",
        "  preds = lr.predict(np.array(X_test))\n",
        "  accuracy.append(sum(preds == y_test)/len(preds))"
      ],
      "metadata": {
        "colab": {
          "base_uri": "https://localhost:8080/"
        },
        "id": "quLpzrPMGjGM",
        "outputId": "92a9e5c8-2ae7-4e44-d5fa-4d2090802672"
      },
      "execution_count": 41,
      "outputs": [
        {
          "output_type": "stream",
          "name": "stderr",
          "text": [
            "/usr/local/lib/python3.7/dist-packages/sklearn/linear_model/_logistic.py:818: ConvergenceWarning: lbfgs failed to converge (status=1):\n",
            "STOP: TOTAL NO. of ITERATIONS REACHED LIMIT.\n",
            "\n",
            "Increase the number of iterations (max_iter) or scale the data as shown in:\n",
            "    https://scikit-learn.org/stable/modules/preprocessing.html\n",
            "Please also refer to the documentation for alternative solver options:\n",
            "    https://scikit-learn.org/stable/modules/linear_model.html#logistic-regression\n",
            "  extra_warning_msg=_LOGISTIC_SOLVER_CONVERGENCE_MSG,\n",
            "/usr/local/lib/python3.7/dist-packages/sklearn/linear_model/_logistic.py:818: ConvergenceWarning: lbfgs failed to converge (status=1):\n",
            "STOP: TOTAL NO. of ITERATIONS REACHED LIMIT.\n",
            "\n",
            "Increase the number of iterations (max_iter) or scale the data as shown in:\n",
            "    https://scikit-learn.org/stable/modules/preprocessing.html\n",
            "Please also refer to the documentation for alternative solver options:\n",
            "    https://scikit-learn.org/stable/modules/linear_model.html#logistic-regression\n",
            "  extra_warning_msg=_LOGISTIC_SOLVER_CONVERGENCE_MSG,\n",
            "/usr/local/lib/python3.7/dist-packages/sklearn/linear_model/_logistic.py:818: ConvergenceWarning: lbfgs failed to converge (status=1):\n",
            "STOP: TOTAL NO. of ITERATIONS REACHED LIMIT.\n",
            "\n",
            "Increase the number of iterations (max_iter) or scale the data as shown in:\n",
            "    https://scikit-learn.org/stable/modules/preprocessing.html\n",
            "Please also refer to the documentation for alternative solver options:\n",
            "    https://scikit-learn.org/stable/modules/linear_model.html#logistic-regression\n",
            "  extra_warning_msg=_LOGISTIC_SOLVER_CONVERGENCE_MSG,\n",
            "/usr/local/lib/python3.7/dist-packages/sklearn/linear_model/_logistic.py:818: ConvergenceWarning: lbfgs failed to converge (status=1):\n",
            "STOP: TOTAL NO. of ITERATIONS REACHED LIMIT.\n",
            "\n",
            "Increase the number of iterations (max_iter) or scale the data as shown in:\n",
            "    https://scikit-learn.org/stable/modules/preprocessing.html\n",
            "Please also refer to the documentation for alternative solver options:\n",
            "    https://scikit-learn.org/stable/modules/linear_model.html#logistic-regression\n",
            "  extra_warning_msg=_LOGISTIC_SOLVER_CONVERGENCE_MSG,\n",
            "/usr/local/lib/python3.7/dist-packages/sklearn/linear_model/_logistic.py:818: ConvergenceWarning: lbfgs failed to converge (status=1):\n",
            "STOP: TOTAL NO. of ITERATIONS REACHED LIMIT.\n",
            "\n",
            "Increase the number of iterations (max_iter) or scale the data as shown in:\n",
            "    https://scikit-learn.org/stable/modules/preprocessing.html\n",
            "Please also refer to the documentation for alternative solver options:\n",
            "    https://scikit-learn.org/stable/modules/linear_model.html#logistic-regression\n",
            "  extra_warning_msg=_LOGISTIC_SOLVER_CONVERGENCE_MSG,\n",
            "/usr/local/lib/python3.7/dist-packages/sklearn/linear_model/_logistic.py:818: ConvergenceWarning: lbfgs failed to converge (status=1):\n",
            "STOP: TOTAL NO. of ITERATIONS REACHED LIMIT.\n",
            "\n",
            "Increase the number of iterations (max_iter) or scale the data as shown in:\n",
            "    https://scikit-learn.org/stable/modules/preprocessing.html\n",
            "Please also refer to the documentation for alternative solver options:\n",
            "    https://scikit-learn.org/stable/modules/linear_model.html#logistic-regression\n",
            "  extra_warning_msg=_LOGISTIC_SOLVER_CONVERGENCE_MSG,\n",
            "/usr/local/lib/python3.7/dist-packages/sklearn/linear_model/_logistic.py:818: ConvergenceWarning: lbfgs failed to converge (status=1):\n",
            "STOP: TOTAL NO. of ITERATIONS REACHED LIMIT.\n",
            "\n",
            "Increase the number of iterations (max_iter) or scale the data as shown in:\n",
            "    https://scikit-learn.org/stable/modules/preprocessing.html\n",
            "Please also refer to the documentation for alternative solver options:\n",
            "    https://scikit-learn.org/stable/modules/linear_model.html#logistic-regression\n",
            "  extra_warning_msg=_LOGISTIC_SOLVER_CONVERGENCE_MSG,\n"
          ]
        }
      ]
    },
    {
      "cell_type": "code",
      "source": [
        "for i in range(len(accuracy)):\n",
        "  print('Number of components: ', i + 3, '; Accuracy: ', accuracy[i])"
      ],
      "metadata": {
        "colab": {
          "base_uri": "https://localhost:8080/"
        },
        "id": "LLu_dh4OGuV6",
        "outputId": "b283cd2d-411a-4c6c-e616-002565c0b778"
      },
      "execution_count": 44,
      "outputs": [
        {
          "output_type": "stream",
          "name": "stdout",
          "text": [
            "Number of components:  3 ; Accuracy:  0.7722513089005235\n",
            "Number of components:  4 ; Accuracy:  0.7722513089005235\n",
            "Number of components:  5 ; Accuracy:  0.7617801047120419\n",
            "Number of components:  6 ; Accuracy:  0.7853403141361257\n",
            "Number of components:  7 ; Accuracy:  0.7984293193717278\n",
            "Number of components:  8 ; Accuracy:  0.7879581151832461\n",
            "Number of components:  9 ; Accuracy:  0.7801047120418848\n"
          ]
        }
      ]
    },
    {
      "cell_type": "code",
      "source": [
        ""
      ],
      "metadata": {
        "id": "or2EHDfCIB73"
      },
      "execution_count": null,
      "outputs": []
    }
  ],
  "metadata": {
    "colab": {
      "name": "DS301 Project.ipynb",
      "provenance": [],
      "toc_visible": true
    },
    "kernelspec": {
      "display_name": "Python 3",
      "name": "python3"
    },
    "language_info": {
      "name": "python"
    }
  },
  "nbformat": 4,
  "nbformat_minor": 0
}