{
  "nbformat": 4,
  "nbformat_minor": 0,
  "metadata": {
    "colab": {
      "name": "DS301 Project.ipynb",
      "provenance": []
    },
    "kernelspec": {
      "name": "python3",
      "display_name": "Python 3"
    },
    "language_info": {
      "name": "python"
    }
  },
  "cells": [
    {
      "cell_type": "code",
      "execution_count": 2,
      "metadata": {
        "colab": {
          "base_uri": "https://localhost:8080/"
        },
        "id": "YcUPEDgcSxhG",
        "outputId": "3a00027a-c5de-4e6a-ac6d-8608f75f114f"
      },
      "outputs": [
        {
          "output_type": "stream",
          "name": "stdout",
          "text": [
            "Cloning into 'DS301-NLP-Project'...\n",
            "remote: Enumerating objects: 24671, done.\u001b[K\n",
            "remote: Counting objects: 100% (3/3), done.\u001b[K\n",
            "remote: Total 24671 (delta 0), reused 3 (delta 0), pack-reused 24668\u001b[K\n",
            "Receiving objects: 100% (24671/24671), 215.94 MiB | 20.03 MiB/s, done.\n",
            "Resolving deltas: 100% (8824/8824), done.\n",
            "Checking out files: 100% (2580/2580), done.\n"
          ]
        }
      ],
      "source": [
        "!git clone https://github.com/wangluheng328/DS301-NLP-Project.git"
      ]
    },
    {
      "cell_type": "code",
      "source": [
        "import glob\n",
        "import os\n",
        "\n",
        "root_path = os.path.expanduser('/content/DS301-NLP-Project/scriptbase_alpha')\n",
        "paths = glob.glob(root_path + '/*')"
      ],
      "metadata": {
        "id": "j2bG_PF9UM-Y"
      },
      "execution_count": 65,
      "outputs": []
    },
    {
      "cell_type": "code",
      "source": [
        "import pandas as pd\n",
        "\n",
        "df = pd.DataFrame([], columns = ['title', 'text', 'imdb'])\n",
        "\n",
        "\n",
        "for path in paths:\n",
        "  f = open(path + '/script.txt', 'r')\n",
        "  try:\n",
        "    text = f.read()\n",
        "    imdb_dir = path + '/processed/imdb_meta.txt'\n",
        "    imdb_f = open(imdb_dir, 'r')\n",
        "    imdb_text = imdb_f.readlines()\n",
        "    imdb_score = float(imdb_text[1].split('\\t')[1].strip())\n",
        "    df = df.append(pd.Series([path.split('/')[-1], text, imdb_score], index = ['title', 'text', 'imdb']), ignore_index = True)\n",
        "  except:\n",
        "    print('Due to decoding issues, ommited: ' + path)"
      ],
      "metadata": {
        "colab": {
          "base_uri": "https://localhost:8080/"
        },
        "id": "oBJ2Kt_jU5pw",
        "outputId": "f07c123c-ad4b-4b6a-e2cd-fff430c77f4c"
      },
      "execution_count": 87,
      "outputs": [
        {
          "output_type": "stream",
          "name": "stdout",
          "text": [
            "Due to decoding issues, ommited: /content/DS301-NLP-Project/scriptbase_alpha/The Jolson Story\n",
            "Due to decoding issues, ommited: /content/DS301-NLP-Project/scriptbase_alpha/Goldfinger (film)\n",
            "Due to decoding issues, ommited: /content/DS301-NLP-Project/scriptbase_alpha/Stranglehold (1931 film)\n",
            "Due to decoding issues, ommited: /content/DS301-NLP-Project/scriptbase_alpha/Boy Who Never Slept\n",
            "Due to decoding issues, ommited: /content/DS301-NLP-Project/scriptbase_alpha/From Russia with Love (film)\n"
          ]
        }
      ]
    },
    {
      "cell_type": "code",
      "source": [
        "df.head()"
      ],
      "metadata": {
        "colab": {
          "base_uri": "https://localhost:8080/",
          "height": 206
        },
        "id": "uM-5X_3Idpvr",
        "outputId": "1ecb6324-14ab-4ebf-c20a-03dc3883097f"
      },
      "execution_count": 90,
      "outputs": [
        {
          "output_type": "execute_result",
          "data": {
            "text/plain": [
              "                         title  \\\n",
              "0          Highlander_ Endgame   \n",
              "1             Assassins (film)   \n",
              "2  G.I. Joe_ The Rise of Cobra   \n",
              "3             Supergirl (film)   \n",
              "4                Bottle Rocket   \n",
              "\n",
              "                                                text  imdb  \n",
              "0          \"HIGHLANDER IV: WORLD WITHOUT END\" -- ...   4.5  \n",
              "1  Assassins (1995) movie script - Screenplays fo...   6.2  \n",
              "2  \\n \\n                          G.I. JOE: THE R...   5.8  \n",
              "3  Revised Screenplay \\n17th January, 1983.\\n\\nAL...   4.3  \n",
              "4  \\n\\n\\n<b><!--\\n</b>if (window!= top)\\ntop.loca...   7.2  "
            ],
            "text/html": [
              "\n",
              "  <div id=\"df-896fcfee-49e7-4c31-ad55-c3092f24c480\">\n",
              "    <div class=\"colab-df-container\">\n",
              "      <div>\n",
              "<style scoped>\n",
              "    .dataframe tbody tr th:only-of-type {\n",
              "        vertical-align: middle;\n",
              "    }\n",
              "\n",
              "    .dataframe tbody tr th {\n",
              "        vertical-align: top;\n",
              "    }\n",
              "\n",
              "    .dataframe thead th {\n",
              "        text-align: right;\n",
              "    }\n",
              "</style>\n",
              "<table border=\"1\" class=\"dataframe\">\n",
              "  <thead>\n",
              "    <tr style=\"text-align: right;\">\n",
              "      <th></th>\n",
              "      <th>title</th>\n",
              "      <th>text</th>\n",
              "      <th>imdb</th>\n",
              "    </tr>\n",
              "  </thead>\n",
              "  <tbody>\n",
              "    <tr>\n",
              "      <th>0</th>\n",
              "      <td>Highlander_ Endgame</td>\n",
              "      <td>\"HIGHLANDER IV: WORLD WITHOUT END\" -- ...</td>\n",
              "      <td>4.5</td>\n",
              "    </tr>\n",
              "    <tr>\n",
              "      <th>1</th>\n",
              "      <td>Assassins (film)</td>\n",
              "      <td>Assassins (1995) movie script - Screenplays fo...</td>\n",
              "      <td>6.2</td>\n",
              "    </tr>\n",
              "    <tr>\n",
              "      <th>2</th>\n",
              "      <td>G.I. Joe_ The Rise of Cobra</td>\n",
              "      <td>\\n \\n                          G.I. JOE: THE R...</td>\n",
              "      <td>5.8</td>\n",
              "    </tr>\n",
              "    <tr>\n",
              "      <th>3</th>\n",
              "      <td>Supergirl (film)</td>\n",
              "      <td>Revised Screenplay \\n17th January, 1983.\\n\\nAL...</td>\n",
              "      <td>4.3</td>\n",
              "    </tr>\n",
              "    <tr>\n",
              "      <th>4</th>\n",
              "      <td>Bottle Rocket</td>\n",
              "      <td>\\n\\n\\n&lt;b&gt;&lt;!--\\n&lt;/b&gt;if (window!= top)\\ntop.loca...</td>\n",
              "      <td>7.2</td>\n",
              "    </tr>\n",
              "  </tbody>\n",
              "</table>\n",
              "</div>\n",
              "      <button class=\"colab-df-convert\" onclick=\"convertToInteractive('df-896fcfee-49e7-4c31-ad55-c3092f24c480')\"\n",
              "              title=\"Convert this dataframe to an interactive table.\"\n",
              "              style=\"display:none;\">\n",
              "        \n",
              "  <svg xmlns=\"http://www.w3.org/2000/svg\" height=\"24px\"viewBox=\"0 0 24 24\"\n",
              "       width=\"24px\">\n",
              "    <path d=\"M0 0h24v24H0V0z\" fill=\"none\"/>\n",
              "    <path d=\"M18.56 5.44l.94 2.06.94-2.06 2.06-.94-2.06-.94-.94-2.06-.94 2.06-2.06.94zm-11 1L8.5 8.5l.94-2.06 2.06-.94-2.06-.94L8.5 2.5l-.94 2.06-2.06.94zm10 10l.94 2.06.94-2.06 2.06-.94-2.06-.94-.94-2.06-.94 2.06-2.06.94z\"/><path d=\"M17.41 7.96l-1.37-1.37c-.4-.4-.92-.59-1.43-.59-.52 0-1.04.2-1.43.59L10.3 9.45l-7.72 7.72c-.78.78-.78 2.05 0 2.83L4 21.41c.39.39.9.59 1.41.59.51 0 1.02-.2 1.41-.59l7.78-7.78 2.81-2.81c.8-.78.8-2.07 0-2.86zM5.41 20L4 18.59l7.72-7.72 1.47 1.35L5.41 20z\"/>\n",
              "  </svg>\n",
              "      </button>\n",
              "      \n",
              "  <style>\n",
              "    .colab-df-container {\n",
              "      display:flex;\n",
              "      flex-wrap:wrap;\n",
              "      gap: 12px;\n",
              "    }\n",
              "\n",
              "    .colab-df-convert {\n",
              "      background-color: #E8F0FE;\n",
              "      border: none;\n",
              "      border-radius: 50%;\n",
              "      cursor: pointer;\n",
              "      display: none;\n",
              "      fill: #1967D2;\n",
              "      height: 32px;\n",
              "      padding: 0 0 0 0;\n",
              "      width: 32px;\n",
              "    }\n",
              "\n",
              "    .colab-df-convert:hover {\n",
              "      background-color: #E2EBFA;\n",
              "      box-shadow: 0px 1px 2px rgba(60, 64, 67, 0.3), 0px 1px 3px 1px rgba(60, 64, 67, 0.15);\n",
              "      fill: #174EA6;\n",
              "    }\n",
              "\n",
              "    [theme=dark] .colab-df-convert {\n",
              "      background-color: #3B4455;\n",
              "      fill: #D2E3FC;\n",
              "    }\n",
              "\n",
              "    [theme=dark] .colab-df-convert:hover {\n",
              "      background-color: #434B5C;\n",
              "      box-shadow: 0px 1px 3px 1px rgba(0, 0, 0, 0.15);\n",
              "      filter: drop-shadow(0px 1px 2px rgba(0, 0, 0, 0.3));\n",
              "      fill: #FFFFFF;\n",
              "    }\n",
              "  </style>\n",
              "\n",
              "      <script>\n",
              "        const buttonEl =\n",
              "          document.querySelector('#df-896fcfee-49e7-4c31-ad55-c3092f24c480 button.colab-df-convert');\n",
              "        buttonEl.style.display =\n",
              "          google.colab.kernel.accessAllowed ? 'block' : 'none';\n",
              "\n",
              "        async function convertToInteractive(key) {\n",
              "          const element = document.querySelector('#df-896fcfee-49e7-4c31-ad55-c3092f24c480');\n",
              "          const dataTable =\n",
              "            await google.colab.kernel.invokeFunction('convertToInteractive',\n",
              "                                                     [key], {});\n",
              "          if (!dataTable) return;\n",
              "\n",
              "          const docLinkHtml = 'Like what you see? Visit the ' +\n",
              "            '<a target=\"_blank\" href=https://colab.research.google.com/notebooks/data_table.ipynb>data table notebook</a>'\n",
              "            + ' to learn more about interactive tables.';\n",
              "          element.innerHTML = '';\n",
              "          dataTable['output_type'] = 'display_data';\n",
              "          await google.colab.output.renderOutput(dataTable, element);\n",
              "          const docLink = document.createElement('div');\n",
              "          docLink.innerHTML = docLinkHtml;\n",
              "          element.appendChild(docLink);\n",
              "        }\n",
              "      </script>\n",
              "    </div>\n",
              "  </div>\n",
              "  "
            ]
          },
          "metadata": {},
          "execution_count": 90
        }
      ]
    },
    {
      "cell_type": "code",
      "source": [
        " "
      ],
      "metadata": {
        "id": "WdE74Xead-kp"
      },
      "execution_count": null,
      "outputs": []
    }
  ]
}